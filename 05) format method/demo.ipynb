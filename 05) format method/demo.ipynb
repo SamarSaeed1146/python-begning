{
 "cells": [
  {
   "cell_type": "markdown",
   "metadata": {},
   "source": [
    "Format() Method"
   ]
  },
  {
   "cell_type": "code",
   "execution_count": 4,
   "metadata": {},
   "outputs": [
    {
     "name": "stdout",
     "output_type": "stream",
     "text": [
      "I am Samar Saeed, My age is 18\n"
     ]
    }
   ],
   "source": [
    "words = \"I am {}, My age is {}\".format(\"Samar Saeed\",18)\n",
    "\n",
    "print(words)"
   ]
  },
  {
   "cell_type": "code",
   "execution_count": 5,
   "metadata": {},
   "outputs": [
    {
     "name": "stdout",
     "output_type": "stream",
     "text": [
      "I am Sunain Saeed, My age is 16, My hobby is Cricket\n"
     ]
    }
   ],
   "source": [
    "words = \"I am {0}, My age is {1}, My hobby is {2}\".format(\"Sunain Saeed\",16,\"Cricket\")\n",
    "\n",
    "print(words)"
   ]
  },
  {
   "cell_type": "code",
   "execution_count": 6,
   "metadata": {},
   "outputs": [
    {
     "name": "stdout",
     "output_type": "stream",
     "text": [
      "I am Sunain Saeed, My age is 16, My hobby is Cricket\n"
     ]
    }
   ],
   "source": [
    "words = \"I am {name}, My age is {age}, My hobby is {game}\".format(name=\"Sunain Saeed\",age=16,game=\"Cricket\")\n",
    "\n",
    "print(words)"
   ]
  },
  {
   "cell_type": "code",
   "execution_count": 12,
   "metadata": {},
   "outputs": [
    {
     "name": "stdout",
     "output_type": "stream",
     "text": [
      "I am          Sunain Saeed         , My age is 16, My hobby is Cricket\n"
     ]
    }
   ],
   "source": [
    "words = \"I am {name:^30}, My age is {age}, My hobby is {game}\".format(name=\"Sunain Saeed\",age=16,game=\"Cricket\")\n",
    "\n",
    "print(words)"
   ]
  }
 ],
 "metadata": {
  "kernelspec": {
   "display_name": "python12",
   "language": "python",
   "name": "python3"
  },
  "language_info": {
   "codemirror_mode": {
    "name": "ipython",
    "version": 3
   },
   "file_extension": ".py",
   "mimetype": "text/x-python",
   "name": "python",
   "nbconvert_exporter": "python",
   "pygments_lexer": "ipython3",
   "version": "3.12.0"
  }
 },
 "nbformat": 4,
 "nbformat_minor": 2
}
