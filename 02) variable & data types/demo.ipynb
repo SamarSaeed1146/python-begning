{
 "cells": [
  {
   "cell_type": "markdown",
   "metadata": {},
   "source": [
    "Variables"
   ]
  },
  {
   "cell_type": "code",
   "execution_count": 5,
   "metadata": {},
   "outputs": [
    {
     "name": "stdout",
     "output_type": "stream",
     "text": [
      "samar saeed\n",
      "18\n",
      "['cricket', 'football', 'running', 'table soccer']\n",
      "3.2\n",
      "('Muhammad', 'Samar', 'Saeed')\n",
      "{'name': 'samar', 'age': 18}\n"
     ]
    }
   ],
   "source": [
    "name: str = \"samar saeed\"\n",
    "age: int = 18\n",
    "hobbies: list[str] = [\"cricket\",\"football\", \"running\", \"table soccer\"]\n",
    "num: float = 3.2\n",
    "tap: tuple = (\"Muhammad\", \"Samar\", \"Saeed\")\n",
    "object: dict = {\"name\":\"samar\",\"age\":18}\n",
    "com:complex = 2j\n",
    "print(name)\n",
    "print(age)\n",
    "print(hobbies)\n",
    "print(num)\n",
    "print(tap)\n",
    "print(object)\n",
    "print(com)"
   ]
  },
  {
   "cell_type": "code",
   "execution_count": 7,
   "metadata": {},
   "outputs": [
    {
     "name": "stdout",
     "output_type": "stream",
     "text": [
      "2222048619392\n",
      "2222048619056\n"
     ]
    }
   ],
   "source": [
    "name1 = \"saif\"\n",
    "name2 = \"saim\"\n",
    "\n",
    "print(id(name1))\n",
    "print(id(name2))"
   ]
  }
 ],
 "metadata": {
  "kernelspec": {
   "display_name": "python12",
   "language": "python",
   "name": "python3"
  },
  "language_info": {
   "codemirror_mode": {
    "name": "ipython",
    "version": 3
   },
   "file_extension": ".py",
   "mimetype": "text/x-python",
   "name": "python",
   "nbconvert_exporter": "python",
   "pygments_lexer": "ipython3",
   "version": "3.12.0"
  }
 },
 "nbformat": 4,
 "nbformat_minor": 2
}
