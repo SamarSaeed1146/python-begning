{
 "cells": [
  {
   "cell_type": "markdown",
   "metadata": {},
   "source": [
    "Important Conversation About String & F-String"
   ]
  },
  {
   "cell_type": "markdown",
   "metadata": {},
   "source": [
    "Single Quote"
   ]
  },
  {
   "cell_type": "code",
   "execution_count": 10,
   "metadata": {},
   "outputs": [
    {
     "name": "stdout",
     "output_type": "stream",
     "text": [
      "Samar Saeed Sunain Saeed\n"
     ]
    }
   ],
   "source": [
    "a = 'Samar Saeed' +' '+ 'Sunain Saeed'\n",
    "\n",
    "print(a)"
   ]
  },
  {
   "cell_type": "code",
   "execution_count": 7,
   "metadata": {},
   "outputs": [
    {
     "name": "stdout",
     "output_type": "stream",
     "text": [
      "Hello Samar Saeed, Sunain Saeed father's name Abdul Saeed\n"
     ]
    }
   ],
   "source": [
    "a = 'Hello Samar Saeed, Sunain Saeed father\\'s name Abdul Saeed'\n",
    "print(a)"
   ]
  },
  {
   "cell_type": "code",
   "execution_count": 12,
   "metadata": {},
   "outputs": [
    {
     "name": "stdout",
     "output_type": "stream",
     "text": [
      "Hello how are you Sunain Saeed, i am fine.\n"
     ]
    }
   ],
   "source": [
    "a = 'Hello how are you Sunain Saeed, \\\n",
    "i am fine.'\n",
    "\n",
    "print (a)"
   ]
  },
  {
   "cell_type": "code",
   "execution_count": 13,
   "metadata": {},
   "outputs": [
    {
     "name": "stdout",
     "output_type": "stream",
     "text": [
      "Hello how are you Sunain Saeed, \n",
      "i am fine.\n"
     ]
    }
   ],
   "source": [
    "a = 'Hello how are you Sunain Saeed, \\\n",
    "\\ni am fine.'\n",
    "\n",
    "print (a)"
   ]
  },
  {
   "cell_type": "markdown",
   "metadata": {},
   "source": [
    "Double Quote"
   ]
  },
  {
   "cell_type": "code",
   "execution_count": 14,
   "metadata": {},
   "outputs": [
    {
     "name": "stdout",
     "output_type": "stream",
     "text": [
      "Samar Saeed\n"
     ]
    }
   ],
   "source": [
    "a = \"Samar Saeed\"\n",
    "\n",
    "print(a)"
   ]
  },
  {
   "cell_type": "code",
   "execution_count": 17,
   "metadata": {},
   "outputs": [
    {
     "name": "stdout",
     "output_type": "stream",
     "text": [
      "Samar Saeed Sunain Saeed\n"
     ]
    }
   ],
   "source": [
    "a = \"Samar Saeed\" + \" \" + \"Sunain Saeed\"\n",
    "\n",
    "print (a)"
   ]
  },
  {
   "cell_type": "code",
   "execution_count": 19,
   "metadata": {},
   "outputs": [
    {
     "name": "stdout",
     "output_type": "stream",
     "text": [
      "Hello Samar Saeed how are you what's your father name\n"
     ]
    }
   ],
   "source": [
    "a = \"Hello Samar Saeed how are you what's your father name\"\n",
    "\n",
    "print(a)"
   ]
  },
  {
   "cell_type": "code",
   "execution_count": 21,
   "metadata": {},
   "outputs": [
    {
     "name": "stdout",
     "output_type": "stream",
     "text": [
      "Hello Samar Saeed, How are you, I am fine\n"
     ]
    }
   ],
   "source": [
    "a = \"Hello Samar Saeed, \\\n",
    "How are you, \\\n",
    "I am fine\"\n",
    "\n",
    "print(a)"
   ]
  },
  {
   "cell_type": "code",
   "execution_count": 22,
   "metadata": {},
   "outputs": [
    {
     "name": "stdout",
     "output_type": "stream",
     "text": [
      "Hello Samar Saeed, \n",
      "How are you, \n",
      "\tI am fine\n"
     ]
    }
   ],
   "source": [
    "a = \"Hello Samar Saeed, \\\n",
    "\\nHow are you, \\\n",
    "\\n\\tI am fine\"\n",
    "\n",
    "print(a)"
   ]
  },
  {
   "cell_type": "markdown",
   "metadata": {},
   "source": [
    "Three Quote"
   ]
  },
  {
   "cell_type": "code",
   "execution_count": 23,
   "metadata": {},
   "outputs": [
    {
     "name": "stdout",
     "output_type": "stream",
     "text": [
      "\n",
      "Hello Samar Saeed,\n",
      "How are you,\n",
      "I am fine\n",
      "\n"
     ]
    }
   ],
   "source": [
    "a = '''\n",
    "Hello Samar Saeed,\n",
    "How are you,\n",
    "I am fine\n",
    "'''\n",
    "\n",
    "print(a)"
   ]
  },
  {
   "cell_type": "code",
   "execution_count": 24,
   "metadata": {},
   "outputs": [
    {
     "name": "stdout",
     "output_type": "stream",
     "text": [
      "\n",
      "Hello Samar Saeed,\n",
      "How are you,\n",
      "I am fine\n",
      "\n"
     ]
    }
   ],
   "source": [
    "a = \"\"\"\n",
    "Hello Samar Saeed,\n",
    "How are you,\n",
    "I am fine\n",
    "\"\"\"\n",
    "\n",
    "print(a)"
   ]
  },
  {
   "cell_type": "markdown",
   "metadata": {},
   "source": [
    "F-String"
   ]
  },
  {
   "cell_type": "code",
   "execution_count": 27,
   "metadata": {},
   "outputs": [
    {
     "name": "stdout",
     "output_type": "stream",
     "text": [
      "My name is Samar Saeed, my age is 20, my hobby is Cricket, my edu is 12\n"
     ]
    }
   ],
   "source": [
    "name = \"Samar Saeed\"\n",
    "edu = \"12\"\n",
    "hobby = \"Cricket\"\n",
    "\n",
    "detail = f\"My name is {name}, my age is {20}, my hobby is {hobby}, my edu is {edu}\"\n",
    "print(detail)"
   ]
  },
  {
   "cell_type": "code",
   "execution_count": 28,
   "metadata": {},
   "outputs": [
    {
     "name": "stdout",
     "output_type": "stream",
     "text": [
      "Samar Saeed\n"
     ]
    }
   ],
   "source": [
    "f_name = \"Samar\"\n",
    "l_name = \"Saeed\"\n",
    "\n",
    "print(f\"{f_name} {l_name}\")"
   ]
  }
 ],
 "metadata": {
  "kernelspec": {
   "display_name": "python12",
   "language": "python",
   "name": "python3"
  },
  "language_info": {
   "codemirror_mode": {
    "name": "ipython",
    "version": 3
   },
   "file_extension": ".py",
   "mimetype": "text/x-python",
   "name": "python",
   "nbconvert_exporter": "python",
   "pygments_lexer": "ipython3",
   "version": "3.12.0"
  }
 },
 "nbformat": 4,
 "nbformat_minor": 2
}
