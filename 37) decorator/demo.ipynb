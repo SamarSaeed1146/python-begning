{
 "cells": [
  {
   "cell_type": "markdown",
   "metadata": {},
   "source": [
    "Decorator In Python\n",
    "\n",
    ". A decorator is a design pattern in python that allows a user to add new functionality to an existing object without modifying its structure.Decorators are usually called before the definition of a function you want to decorate."
   ]
  },
  {
   "cell_type": "code",
   "execution_count": 6,
   "metadata": {},
   "outputs": [
    {
     "name": "stdout",
     "output_type": "stream",
     "text": [
      "inner function\n",
      "Hello Samar\n",
      "inner function 2\n"
     ]
    }
   ],
   "source": [
    "def deco(func):\n",
    "    def inner():\n",
    "        print(\"inner function\")\n",
    "        func(\"Hello Samar\")\n",
    "        print(\"inner function 2\")\n",
    "    return inner\n",
    "\n",
    "@deco\n",
    "def hello(x):\n",
    "    print(x)\n",
    "\n",
    "hello()"
   ]
  }
 ],
 "metadata": {
  "kernelspec": {
   "display_name": "python12",
   "language": "python",
   "name": "python3"
  },
  "language_info": {
   "codemirror_mode": {
    "name": "ipython",
    "version": 3
   },
   "file_extension": ".py",
   "mimetype": "text/x-python",
   "name": "python",
   "nbconvert_exporter": "python",
   "pygments_lexer": "ipython3",
   "version": "3.12.0"
  }
 },
 "nbformat": 4,
 "nbformat_minor": 2
}
