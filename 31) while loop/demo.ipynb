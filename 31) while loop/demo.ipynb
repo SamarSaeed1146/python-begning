{
 "cells": [
  {
   "cell_type": "markdown",
   "metadata": {},
   "source": [
    "While Loop\n",
    "\n",
    "Syntax: \n",
    "\n",
    "while condition:\n",
    "        loop body"
   ]
  },
  {
   "cell_type": "code",
   "execution_count": 1,
   "metadata": {},
   "outputs": [
    {
     "name": "stdout",
     "output_type": "stream",
     "text": [
      "1\n",
      "2\n",
      "3\n",
      "4\n",
      "5\n"
     ]
    }
   ],
   "source": [
    "i = 1\n",
    "\n",
    "while i <= 5:\n",
    "    print(i)\n",
    "    i += 1"
   ]
  },
  {
   "cell_type": "code",
   "execution_count": 2,
   "metadata": {},
   "outputs": [
    {
     "name": "stdout",
     "output_type": "stream",
     "text": [
      "hello world\n",
      "hello samar\n",
      "stop\n"
     ]
    }
   ],
   "source": [
    "msg = \"\"\n",
    "\n",
    "while msg != \"stop\":\n",
    "    msg = input(\"prompt\")\n",
    "    print(msg)"
   ]
  },
  {
   "cell_type": "code",
   "execution_count": 4,
   "metadata": {},
   "outputs": [
    {
     "name": "stdout",
     "output_type": "stream",
     "text": [
      "hello samar\n",
      "hello saeed\n",
      "fungame\n",
      "stop\n"
     ]
    }
   ],
   "source": [
    "active = True\n",
    "msg = \"\"\n",
    "\n",
    "while active:\n",
    "    msg = input(\"prompt: \")\n",
    "    if msg == \"stop\":\n",
    "        active = False\n",
    "    print(msg)"
   ]
  },
  {
   "cell_type": "code",
   "execution_count": 5,
   "metadata": {},
   "outputs": [
    {
     "name": "stdout",
     "output_type": "stream",
     "text": [
      "ali\n",
      "ahmed\n"
     ]
    }
   ],
   "source": [
    "while True:\n",
    "    msg = input(\"prompt: \")\n",
    "    if msg == \"stop\":\n",
    "        break\n",
    "    print(msg)"
   ]
  },
  {
   "cell_type": "code",
   "execution_count": 9,
   "metadata": {},
   "outputs": [
    {
     "name": "stdout",
     "output_type": "stream",
     "text": [
      "[{'name': 'samar', 'age': 18}]\n",
      "[{'name': 'samar', 'age': 18}, {'name': 'ahmed', 'age': 35}]\n"
     ]
    }
   ],
   "source": [
    "data = list()\n",
    "\n",
    "while True:\n",
    "    name = input(\"user name: \")\n",
    "    age = int(input(\"user age: \"))\n",
    "    data.append({\"name\": name, \"age\": age})\n",
    "    if name == \"stop\":\n",
    "        break\n",
    "    else:\n",
    "        print(data)"
   ]
  }
 ],
 "metadata": {
  "kernelspec": {
   "display_name": "python12",
   "language": "python",
   "name": "python3"
  },
  "language_info": {
   "codemirror_mode": {
    "name": "ipython",
    "version": 3
   },
   "file_extension": ".py",
   "mimetype": "text/x-python",
   "name": "python",
   "nbconvert_exporter": "python",
   "pygments_lexer": "ipython3",
   "version": "3.12.0"
  }
 },
 "nbformat": 4,
 "nbformat_minor": 2
}
