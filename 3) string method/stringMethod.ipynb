{
 "cells": [
  {
   "cell_type": "markdown",
   "metadata": {},
   "source": [
    "Python String Method"
   ]
  },
  {
   "cell_type": "code",
   "execution_count": 4,
   "metadata": {},
   "outputs": [
    {
     "name": "stdout",
     "output_type": "stream",
     "text": [
      "samar saeed\n",
      "SAMAR SAEED\n",
      "samar saeed\n",
      "Samar Saeed\n",
      "Samar saeed\n"
     ]
    }
   ],
   "source": [
    "name1:str = \"samar saeed\"\n",
    "print(name1) # original state\n",
    "print(name1.upper()) # upper case\n",
    "print(name1.lower()) # lower case\n",
    "print(name1.title()) # title case\n",
    "print(name1.capitalize()) # capitalize case"
   ]
  },
  {
   "cell_type": "markdown",
   "metadata": {},
   "source": [
    "Concatinate String"
   ]
  },
  {
   "cell_type": "code",
   "execution_count": 6,
   "metadata": {},
   "outputs": [
    {
     "name": "stdout",
     "output_type": "stream",
     "text": [
      "Samar Saeed\n"
     ]
    }
   ],
   "source": [
    "first_name:str = \"Samar\"\n",
    "last_name:str = \"Saeed\"\n",
    "full_name:str = f\"{first_name} {last_name}\"\n",
    "print(full_name)"
   ]
  },
  {
   "cell_type": "markdown",
   "metadata": {},
   "source": [
    "Tab Space & New Line"
   ]
  },
  {
   "cell_type": "code",
   "execution_count": 9,
   "metadata": {},
   "outputs": [
    {
     "name": "stdout",
     "output_type": "stream",
     "text": [
      "Hello World How are You\n",
      "Hello World \n",
      "How are You\n",
      "Hello World \n",
      "How are You Hi\n",
      "Hello World \n",
      "How are You \tHi\n"
     ]
    }
   ],
   "source": [
    "print(\"Hello World How are You\") # normal\n",
    "print(\"Hello World \\nHow are You\") # new line\n",
    "print(\"Hello World \\nHow are You Hi\") # new line\n",
    "print(\"Hello World \\nHow are You \\tHi\") # new line"
   ]
  }
 ],
 "metadata": {
  "kernelspec": {
   "display_name": "python12",
   "language": "python",
   "name": "python3"
  },
  "language_info": {
   "codemirror_mode": {
    "name": "ipython",
    "version": 3
   },
   "file_extension": ".py",
   "mimetype": "text/x-python",
   "name": "python",
   "nbconvert_exporter": "python",
   "pygments_lexer": "ipython3",
   "version": "3.12.0"
  }
 },
 "nbformat": 4,
 "nbformat_minor": 2
}
