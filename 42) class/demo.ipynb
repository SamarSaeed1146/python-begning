{
 "cells": [
  {
   "cell_type": "markdown",
   "metadata": {},
   "source": [
    "Class/Objects (OOP) In Python\n",
    "\n",
    "Python is an object oriented programming language.\n",
    "Almost everything in python is an object, with its properties and methods.\n",
    "A class is like an object constructor, or a \"blueprint\" for creating object."
   ]
  },
  {
   "cell_type": "code",
   "execution_count": 3,
   "metadata": {},
   "outputs": [
    {
     "name": "stdout",
     "output_type": "stream",
     "text": [
      "Samar\n",
      "18\n"
     ]
    }
   ],
   "source": [
    "class Person:\n",
    "    def __init__(self, name, age,):\n",
    "        self.name = name\n",
    "        self.age = age\n",
    "p1 = Person(\"Samar\", 18)\n",
    "\n",
    "print(p1.name)\n",
    "print(p1.age)"
   ]
  },
  {
   "cell_type": "code",
   "execution_count": 5,
   "metadata": {},
   "outputs": [
    {
     "name": "stdout",
     "output_type": "stream",
     "text": [
      "Samar\n",
      "18\n",
      "Khan\n",
      "33\n",
      "Ail\n",
      "54\n"
     ]
    }
   ],
   "source": [
    "class Person:\n",
    "    def __init__(self, name, age,):\n",
    "        self.name = name\n",
    "        self.age = age\n",
    "p1 = Person(\"Samar\", 18)\n",
    "p2 = Person(\"Khan\", 33)\n",
    "p3 = Person(\"Ail\", 54)\n",
    "\n",
    "print(p1.name)\n",
    "print(p1.age)\n",
    "print(p2.name)\n",
    "print(p2.age)\n",
    "print(p3.name)\n",
    "print(p3.age)"
   ]
  },
  {
   "cell_type": "code",
   "execution_count": 33,
   "metadata": {},
   "outputs": [
    {
     "name": "stdout",
     "output_type": "stream",
     "text": [
      "Samar\n",
      "18\n",
      "Welcome Samar\n"
     ]
    }
   ],
   "source": [
    "class Person:\n",
    "    def __init__(self, name, age):\n",
    "        self.name = name\n",
    "        self.age = age\n",
    "\n",
    "    def welcome(self):\n",
    "        print(f\"Welcome {self.name}\")\n",
    "\n",
    "p1 = Person(\"Samar\", 18)\n",
    "p2 = Person(\"Khan\", 33)\n",
    "p3 = Person(\"Ail\", 54)\n",
    "\n",
    "print(p1.name)\n",
    "print(p1.age)\n",
    "p1.welcome()"
   ]
  },
  {
   "cell_type": "code",
   "execution_count": 32,
   "metadata": {},
   "outputs": [
    {
     "name": "stdout",
     "output_type": "stream",
     "text": [
      "Khan\n",
      "33\n",
      "Welcome Khan\n"
     ]
    }
   ],
   "source": [
    "class Person:\n",
    "    def __init__(self, name, age):\n",
    "        self.name = name\n",
    "        self.age = age\n",
    "\n",
    "    def welcome(self):\n",
    "        print(f\"Welcome {self.name}\")\n",
    "\n",
    "p1 = Person(\"Samar\", 18)\n",
    "p2 = Person(\"Khan\", 33)\n",
    "p3 = Person(\"Ail\", 54)\n",
    "\n",
    "print(p2.name)\n",
    "print(p2.age)\n",
    "p2.welcome()"
   ]
  },
  {
   "cell_type": "code",
   "execution_count": 31,
   "metadata": {},
   "outputs": [
    {
     "name": "stdout",
     "output_type": "stream",
     "text": [
      "Ail\n",
      "54\n",
      "Welcome Ail\n"
     ]
    }
   ],
   "source": [
    "class Person:\n",
    "    def __init__(self, name, age):\n",
    "        self.name = name\n",
    "        self.age = age\n",
    "\n",
    "    def welcome(self):\n",
    "        print(f\"Welcome {self.name}\")\n",
    "\n",
    "p1 = Person(\"Samar\", 18)\n",
    "p2 = Person(\"Khan\", 33)\n",
    "p3 = Person(\"Ail\", 54)\n",
    "\n",
    "print(p3.name)\n",
    "print(p3.age)\n",
    "p3.welcome()"
   ]
  }
 ],
 "metadata": {
  "kernelspec": {
   "display_name": "python12",
   "language": "python",
   "name": "python3"
  },
  "language_info": {
   "codemirror_mode": {
    "name": "ipython",
    "version": 3
   },
   "file_extension": ".py",
   "mimetype": "text/x-python",
   "name": "python",
   "nbconvert_exporter": "python",
   "pygments_lexer": "ipython3",
   "version": "3.12.0"
  }
 },
 "nbformat": 4,
 "nbformat_minor": 2
}
