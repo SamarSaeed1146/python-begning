{
 "cells": [
  {
   "cell_type": "markdown",
   "metadata": {},
   "source": [
    "File Handling\n",
    "\n",
    "The key function for working with files in python is the open() function.\n",
    "The open() function takes two parameters; filename, and mode.\n",
    "There are four different methods (modes) for opening a file:\n",
    "\n",
    "\"r\" - Read - Default value. Opens a file for reading, error if the file does not exist\n",
    "\"a\" - Append - Opens a file for appending, creates the file if it does not exist\n",
    "\"w\" - Write - Opens a file for writting, create the file if it does not exist\n",
    "\"x\" - Create - Create the specify file, returns an error if the file exists\n",
    "\n",
    "In addition you can specify if the file should be handled as binary text mode \n",
    "\n",
    "\"t\" - Text - Default values. Text mode \n",
    "\"b\" - Binary - Binary mode (e.g. image)"
   ]
  },
  {
   "cell_type": "code",
   "execution_count": 5,
   "metadata": {},
   "outputs": [
    {
     "name": "stdout",
     "output_type": "stream",
     "text": [
      "hello Samar\n",
      "hello Saeed\n"
     ]
    }
   ],
   "source": [
    "with open(\"./text.txt\",\"r\") as data:\n",
    "    print(data.read())"
   ]
  },
  {
   "cell_type": "code",
   "execution_count": 8,
   "metadata": {},
   "outputs": [
    {
     "name": "stdout",
     "output_type": "stream",
     "text": [
      "hello\n"
     ]
    }
   ],
   "source": [
    "with open(\"./text.txt\",\"r\") as data:\n",
    "    print(data.read(5))"
   ]
  },
  {
   "cell_type": "code",
   "execution_count": 11,
   "metadata": {},
   "outputs": [
    {
     "name": "stdout",
     "output_type": "stream",
     "text": [
      "hello Samar\n",
      "\n",
      "hello Saeed\n"
     ]
    }
   ],
   "source": [
    "with open(\"./text.txt\",\"r\") as data:\n",
    "    print(data.readline())\n",
    "    print(data.readline())"
   ]
  },
  {
   "cell_type": "code",
   "execution_count": 12,
   "metadata": {},
   "outputs": [
    {
     "name": "stdout",
     "output_type": "stream",
     "text": [
      "['hello Samar\\n', 'hello Saeed']\n"
     ]
    }
   ],
   "source": [
    "with open(\"./text.txt\",\"r\") as data:\n",
    "    print(data.readlines())"
   ]
  },
  {
   "cell_type": "code",
   "execution_count": 19,
   "metadata": {},
   "outputs": [],
   "source": [
    "with open(\"./text.txt\",\"a\") as data:\n",
    "    data.write(\"\\nHello Ali\")"
   ]
  },
  {
   "cell_type": "code",
   "execution_count": 21,
   "metadata": {},
   "outputs": [
    {
     "name": "stdout",
     "output_type": "stream",
     "text": [
      "hello Samar\n",
      "hello Saeed\n",
      "Hello Ali\n"
     ]
    }
   ],
   "source": [
    "with open(\"./text.txt\",\"r\") as data:\n",
    "    print(data.read())"
   ]
  },
  {
   "cell_type": "code",
   "execution_count": 22,
   "metadata": {},
   "outputs": [],
   "source": [
    "with open(\"./text.txt\",\"w\") as data:\n",
    "    data.write(\"Hello Samar Saeed\")"
   ]
  },
  {
   "cell_type": "code",
   "execution_count": 23,
   "metadata": {},
   "outputs": [
    {
     "name": "stdout",
     "output_type": "stream",
     "text": [
      "Hello Samar Saeed\n"
     ]
    }
   ],
   "source": [
    "with open(\"./text.txt\",\"r\") as data:\n",
    "    print(data.read())"
   ]
  },
  {
   "cell_type": "code",
   "execution_count": 24,
   "metadata": {},
   "outputs": [],
   "source": [
    "with open(\"./text1.txt\",\"x\") as data:\n",
    "    data.write(\"Hamzah\")"
   ]
  },
  {
   "cell_type": "code",
   "execution_count": 25,
   "metadata": {},
   "outputs": [
    {
     "name": "stdout",
     "output_type": "stream",
     "text": [
      "Hamzah\n"
     ]
    }
   ],
   "source": [
    "with open(\"./text1.txt\",\"r\") as data:\n",
    "    print(data.read())"
   ]
  },
  {
   "cell_type": "code",
   "execution_count": 31,
   "metadata": {},
   "outputs": [
    {
     "name": "stdout",
     "output_type": "stream",
     "text": [
      "0\n",
      "Hello Samar Saeed\n",
      "17\n"
     ]
    }
   ],
   "source": [
    "with open(\"./text.txt\",\"r\") as data:\n",
    "    print(data.tell())\n",
    "    print(data.read())\n",
    "    print(data.tell())"
   ]
  },
  {
   "cell_type": "code",
   "execution_count": 32,
   "metadata": {},
   "outputs": [
    {
     "name": "stdout",
     "output_type": "stream",
     "text": [
      "0\n",
      "6\n",
      "Samar Saeed\n",
      "17\n"
     ]
    }
   ],
   "source": [
    "with open(\"./text.txt\",\"r\") as data:\n",
    "    print(data.tell())\n",
    "    data.seek(6)\n",
    "    print(data.tell())\n",
    "    print(data.read())\n",
    "    print(data.tell())"
   ]
  },
  {
   "cell_type": "code",
   "execution_count": 33,
   "metadata": {},
   "outputs": [
    {
     "name": "stdout",
     "output_type": "stream",
     "text": [
      "0\n",
      "6\n",
      "Samar\n",
      "11\n"
     ]
    }
   ],
   "source": [
    "with open(\"./text.txt\",\"r\") as data:\n",
    "    print(data.tell())\n",
    "    data.seek(6)\n",
    "    print(data.tell())\n",
    "    print(data.read(5))\n",
    "    print(data.tell())"
   ]
  },
  {
   "cell_type": "code",
   "execution_count": 37,
   "metadata": {},
   "outputs": [],
   "source": [
    "with open(\"./text.txt\",\"a\") as data:\n",
    "    data.truncate(12)"
   ]
  }
 ],
 "metadata": {
  "kernelspec": {
   "display_name": "python12",
   "language": "python",
   "name": "python3"
  },
  "language_info": {
   "codemirror_mode": {
    "name": "ipython",
    "version": 3
   },
   "file_extension": ".py",
   "mimetype": "text/x-python",
   "name": "python",
   "nbconvert_exporter": "python",
   "pygments_lexer": "ipython3",
   "version": "3.12.0"
  }
 },
 "nbformat": 4,
 "nbformat_minor": 2
}
