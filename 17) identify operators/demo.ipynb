{
 "cells": [
  {
   "cell_type": "markdown",
   "metadata": {},
   "source": [
    "Identify Operator\n",
    "\n",
    "is, not is"
   ]
  },
  {
   "cell_type": "code",
   "execution_count": 3,
   "metadata": {},
   "outputs": [
    {
     "name": "stdout",
     "output_type": "stream",
     "text": [
      "2160098439840 2160098439840\n",
      "True\n",
      "True\n"
     ]
    }
   ],
   "source": [
    "a = \"Samar\"\n",
    "b = \"Samar\"\n",
    "\n",
    "print(id(a), id(b))\n",
    "print(a is b)\n",
    "print(a == b)"
   ]
  },
  {
   "cell_type": "code",
   "execution_count": 4,
   "metadata": {},
   "outputs": [
    {
     "name": "stdout",
     "output_type": "stream",
     "text": [
      "2160098500160 2160098546176\n",
      "False\n",
      "True\n"
     ]
    }
   ],
   "source": [
    "a = [\"Samar\", \"Saeed\"]\n",
    "b = [\"Samar\", \"Saeed\"]\n",
    "\n",
    "print(id(a), id(b))\n",
    "print(a is b) # match by id\n",
    "print(a == b) # match by value"
   ]
  },
  {
   "cell_type": "code",
   "execution_count": 5,
   "metadata": {},
   "outputs": [
    {
     "name": "stdout",
     "output_type": "stream",
     "text": [
      "2160098401024 2160098546240\n",
      "True\n",
      "True\n"
     ]
    }
   ],
   "source": [
    "a = [\"Samar\", \"Saeed\"]\n",
    "b = [\"Samar\", \"Saeed\"]\n",
    "\n",
    "print(id(a), id(b))\n",
    "print(a is not b) # match by id\n",
    "print(a == b) # match by val"
   ]
  }
 ],
 "metadata": {
  "kernelspec": {
   "display_name": "python12",
   "language": "python",
   "name": "python3"
  },
  "language_info": {
   "codemirror_mode": {
    "name": "ipython",
    "version": 3
   },
   "file_extension": ".py",
   "mimetype": "text/x-python",
   "name": "python",
   "nbconvert_exporter": "python",
   "pygments_lexer": "ipython3",
   "version": "3.12.0"
  }
 },
 "nbformat": 4,
 "nbformat_minor": 2
}
