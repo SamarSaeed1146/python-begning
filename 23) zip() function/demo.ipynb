{
 "cells": [
  {
   "cell_type": "markdown",
   "metadata": {},
   "source": [
    "Zip() Function In Python\n",
    "\n",
    "Unzip In Python\n",
    "\n",
    "zip is an in build function in python used to iterate over multiple iterables.\n",
    "\n",
    "Syntax: zip(iterator1, iterator2, iterator3 ...)"
   ]
  },
  {
   "cell_type": "code",
   "execution_count": 2,
   "metadata": {},
   "outputs": [
    {
     "name": "stdout",
     "output_type": "stream",
     "text": [
      "[('Samar', 'p1'), ('Saeed', 'p2'), ('Ali', 'p3'), ('Abdul', 'p4')]\n"
     ]
    }
   ],
   "source": [
    "name = [\"Samar\", \"Saeed\", \"Ali\", \"Abdul\",]\n",
    "player = [\"p1\", \"p2\", \"p3\", \"p4\"]\n",
    "\n",
    "zip_list = list(zip(name, player))\n",
    "\n",
    "print(zip_list)"
   ]
  },
  {
   "cell_type": "code",
   "execution_count": 3,
   "metadata": {},
   "outputs": [
    {
     "name": "stdout",
     "output_type": "stream",
     "text": [
      "(('Samar', 'p1'), ('Saeed', 'p2'), ('Ali', 'p3'), ('Abdul', 'p4'))\n"
     ]
    }
   ],
   "source": [
    "name = [\"Samar\", \"Saeed\", \"Ali\", \"Abdul\",]\n",
    "player = [\"p1\", \"p2\", \"p3\", \"p4\"]\n",
    "\n",
    "zip_list = tuple(zip(name, player))\n",
    "\n",
    "print(zip_list)"
   ]
  },
  {
   "cell_type": "code",
   "execution_count": 5,
   "metadata": {},
   "outputs": [
    {
     "name": "stdout",
     "output_type": "stream",
     "text": [
      "{'p1': 'Samar', 'p2': 'Saeed', 'p3': 'Ali', 'p4': 'Abdul'}\n"
     ]
    }
   ],
   "source": [
    "name = [\"Samar\", \"Saeed\", \"Ali\", \"Abdul\",]\n",
    "player = [\"p1\", \"p2\", \"p3\", \"p4\"]\n",
    "\n",
    "zip_list = dict(zip(player, name))\n",
    "\n",
    "print(zip_list)"
   ]
  },
  {
   "cell_type": "code",
   "execution_count": 7,
   "metadata": {},
   "outputs": [
    {
     "name": "stdout",
     "output_type": "stream",
     "text": [
      "[('p1', 'Samar', '18'), ('p2', 'Saeed', '20'), ('p3', 'Ali', '34'), ('p4', 'Abdul', '54')]\n"
     ]
    }
   ],
   "source": [
    "name = [\"Samar\", \"Saeed\", \"Ali\", \"Abdul\",]\n",
    "player = [\"p1\", \"p2\", \"p3\", \"p4\"]\n",
    "age = [\"18\", \"20\", \"34\", \"54\"]\n",
    "\n",
    "zip_list = list(zip(player, name, age))\n",
    "\n",
    "print(zip_list)"
   ]
  },
  {
   "cell_type": "code",
   "execution_count": 8,
   "metadata": {},
   "outputs": [
    {
     "name": "stdout",
     "output_type": "stream",
     "text": [
      "[('p1', 'Samar', '18'), ('p2', 'Saeed', '20'), ('p3', 'Ali', '34'), ('p4', 'Abdul', '54')]\n"
     ]
    }
   ],
   "source": [
    "name = [\"Samar\", \"Saeed\", \"Ali\", \"Abdul\", \"Umer\"]\n",
    "player = [\"p1\", \"p2\", \"p3\", \"p4\"]\n",
    "age = [\"18\", \"20\", \"34\", \"54\"]\n",
    "\n",
    "zip_list = list(zip(player, name, age))\n",
    "\n",
    "print(zip_list)"
   ]
  },
  {
   "cell_type": "code",
   "execution_count": 11,
   "metadata": {},
   "outputs": [
    {
     "name": "stdout",
     "output_type": "stream",
     "text": [
      "p1\n",
      "p2\n",
      "p3\n",
      "p4\n"
     ]
    }
   ],
   "source": [
    "name = [\"Samar\", \"Saeed\", \"Ali\", \"Abdul\", \"Umer\"]\n",
    "player = [\"p1\", \"p2\", \"p3\", \"p4\"]\n",
    "age = [\"18\", \"20\", \"34\", \"54\"]\n",
    "\n",
    "zip_list = list(zip(player, name, age))\n",
    "\n",
    "for x in zip_list:\n",
    "    game_player, player_name, player_age = x\n",
    "    print(game_player)"
   ]
  },
  {
   "cell_type": "code",
   "execution_count": 12,
   "metadata": {},
   "outputs": [
    {
     "name": "stdout",
     "output_type": "stream",
     "text": [
      "Samar\n",
      "Saeed\n",
      "Ali\n",
      "Abdul\n"
     ]
    }
   ],
   "source": [
    "name = [\"Samar\", \"Saeed\", \"Ali\", \"Abdul\", \"Umer\"]\n",
    "player = [\"p1\", \"p2\", \"p3\", \"p4\"]\n",
    "age = [\"18\", \"20\", \"34\", \"54\"]\n",
    "\n",
    "zip_list = list(zip(player, name, age))\n",
    "\n",
    "for x in zip_list:\n",
    "    game_player, player_name, player_age = x\n",
    "    print(player_name)"
   ]
  },
  {
   "cell_type": "code",
   "execution_count": 13,
   "metadata": {},
   "outputs": [
    {
     "name": "stdout",
     "output_type": "stream",
     "text": [
      "18\n",
      "20\n",
      "34\n",
      "54\n"
     ]
    }
   ],
   "source": [
    "name = [\"Samar\", \"Saeed\", \"Ali\", \"Abdul\", \"Umer\"]\n",
    "player = [\"p1\", \"p2\", \"p3\", \"p4\"]\n",
    "age = [\"18\", \"20\", \"34\", \"54\"]\n",
    "\n",
    "zip_list = list(zip(player, name, age))\n",
    "\n",
    "for x in zip_list:\n",
    "    game_player, player_name, player_age = x\n",
    "    print(player_age)"
   ]
  }
 ],
 "metadata": {
  "kernelspec": {
   "display_name": "python12",
   "language": "python",
   "name": "python3"
  },
  "language_info": {
   "codemirror_mode": {
    "name": "ipython",
    "version": 3
   },
   "file_extension": ".py",
   "mimetype": "text/x-python",
   "name": "python",
   "nbconvert_exporter": "python",
   "pygments_lexer": "ipython3",
   "version": "3.12.0"
  }
 },
 "nbformat": 4,
 "nbformat_minor": 2
}
