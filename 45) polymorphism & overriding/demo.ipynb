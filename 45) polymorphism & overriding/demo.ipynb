{
 "cells": [
  {
   "cell_type": "markdown",
   "metadata": {},
   "source": [
    "Polymorphism & Overriding"
   ]
  },
  {
   "cell_type": "code",
   "execution_count": 4,
   "metadata": {},
   "outputs": [
    {
     "name": "stdout",
     "output_type": "stream",
     "text": [
      "i am playing Cricket\n"
     ]
    }
   ],
   "source": [
    "class Cricket:\n",
    "    def play(self,game):\n",
    "        print(f\"i am playing {game}\")\n",
    "\n",
    "p1 = Cricket()\n",
    "\n",
    "p1.play(\"Cricket\")"
   ]
  },
  {
   "cell_type": "code",
   "execution_count": 7,
   "metadata": {},
   "outputs": [
    {
     "name": "stdout",
     "output_type": "stream",
     "text": [
      "i am playing Cricket\n",
      "i am playing Football...\n"
     ]
    }
   ],
   "source": [
    "class Cricket:\n",
    "    def play(self,game):\n",
    "        print(f\"i am playing {game}\")\n",
    "\n",
    "class Football(Cricket):\n",
    "    def play(self,game):\n",
    "        print(f\"i am playing {game}...\")\n",
    "\n",
    "p1 = Cricket()\n",
    "p2 = Football()\n",
    "\n",
    "p1.play(\"Cricket\")\n",
    "p2.play(\"Football\")"
   ]
  },
  {
   "cell_type": "code",
   "execution_count": 10,
   "metadata": {},
   "outputs": [
    {
     "name": "stdout",
     "output_type": "stream",
     "text": [
      "i am playing Football...\n"
     ]
    }
   ],
   "source": [
    "class Cricket:\n",
    "    def play(self,game):\n",
    "        print(f\"i am playing {game}\")\n",
    "\n",
    "class Football(Cricket):\n",
    "    def play(self,game):\n",
    "        print(f\"i am playing {game}...\")\n",
    "\n",
    "p2 : Cricket = Football()\n",
    "\n",
    "p2.play(\"Football\")"
   ]
  }
 ],
 "metadata": {
  "kernelspec": {
   "display_name": "python12",
   "language": "python",
   "name": "python3"
  },
  "language_info": {
   "codemirror_mode": {
    "name": "ipython",
    "version": 3
   },
   "file_extension": ".py",
   "mimetype": "text/x-python",
   "name": "python",
   "nbconvert_exporter": "python",
   "pygments_lexer": "ipython3",
   "version": "3.12.0"
  }
 },
 "nbformat": 4,
 "nbformat_minor": 2
}
