{
 "cells": [
  {
   "cell_type": "markdown",
   "metadata": {},
   "source": [
    "Try Except Else Finally"
   ]
  },
  {
   "cell_type": "code",
   "execution_count": 3,
   "metadata": {},
   "outputs": [
    {
     "name": "stdout",
     "output_type": "stream",
     "text": [
      "Error...\n"
     ]
    }
   ],
   "source": [
    "try:\n",
    "    print(y)\n",
    "except:\n",
    "    print(\"Error...\")"
   ]
  },
  {
   "cell_type": "code",
   "execution_count": 6,
   "metadata": {},
   "outputs": [
    {
     "name": "stdout",
     "output_type": "stream",
     "text": [
      "123\n",
      "the value of z is none\n",
      "this is the example of try & except method of python\n"
     ]
    }
   ],
   "source": [
    "y = 123\n",
    "\n",
    "try:\n",
    "    print(y)\n",
    "except:\n",
    "    print(\"Error...\")\n",
    "else:\n",
    "    print(\"the value of z is none\")\n",
    "finally:\n",
    "    print(\"this is the example of try & except method of python\")"
   ]
  },
  {
   "cell_type": "code",
   "execution_count": 7,
   "metadata": {},
   "outputs": [
    {
     "name": "stdout",
     "output_type": "stream",
     "text": [
      "Error...\n",
      "this is the example of try & except method of python\n"
     ]
    }
   ],
   "source": [
    "y = 123\n",
    "\n",
    "try:\n",
    "    print(a)\n",
    "except:\n",
    "    print(\"Error...\")\n",
    "else:\n",
    "    print(\"the value of z is none\")\n",
    "finally:\n",
    "    print(\"this is the example of try & except method of python\")"
   ]
  }
 ],
 "metadata": {
  "kernelspec": {
   "display_name": "python12",
   "language": "python",
   "name": "python3"
  },
  "language_info": {
   "codemirror_mode": {
    "name": "ipython",
    "version": 3
   },
   "file_extension": ".py",
   "mimetype": "text/x-python",
   "name": "python",
   "nbconvert_exporter": "python",
   "pygments_lexer": "ipython3",
   "version": "3.12.0"
  }
 },
 "nbformat": 4,
 "nbformat_minor": 2
}
