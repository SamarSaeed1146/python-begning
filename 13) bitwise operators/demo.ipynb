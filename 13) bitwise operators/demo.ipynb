{
 "cells": [
  {
   "cell_type": "markdown",
   "metadata": {},
   "source": [
    "Bitwise Operators"
   ]
  },
  {
   "cell_type": "code",
   "execution_count": 10,
   "metadata": {},
   "outputs": [
    {
     "name": "stdout",
     "output_type": "stream",
     "text": [
      "0b1001\n",
      "0b1100\n",
      "0b1000 = 8\n"
     ]
    }
   ],
   "source": [
    "a = 9\n",
    "b = 12\n",
    "print(bin(a))\n",
    "print(bin(b))\n",
    "# & operator\n",
    "print(bin(a&b), f\"= {a&b}\")"
   ]
  },
  {
   "cell_type": "code",
   "execution_count": 11,
   "metadata": {},
   "outputs": [
    {
     "name": "stdout",
     "output_type": "stream",
     "text": [
      "0b1001\n",
      "0b1100\n",
      "0b1101 = 13\n"
     ]
    }
   ],
   "source": [
    "a = 9\n",
    "b = 12\n",
    "print(bin(a))\n",
    "print(bin(b))\n",
    "# | operator\n",
    "print(bin(a|b), f\"= {a|b}\")"
   ]
  },
  {
   "cell_type": "code",
   "execution_count": 12,
   "metadata": {},
   "outputs": [
    {
     "name": "stdout",
     "output_type": "stream",
     "text": [
      "0b1001\n",
      "0b1100\n",
      "0b101 = 5\n"
     ]
    }
   ],
   "source": [
    "a = 9\n",
    "b = 12\n",
    "print(bin(a))\n",
    "print(bin(b))\n",
    "# ^ operator\n",
    "print(bin(a^b), f\"= {a^b}\")"
   ]
  }
 ],
 "metadata": {
  "kernelspec": {
   "display_name": "python12",
   "language": "python",
   "name": "python3"
  },
  "language_info": {
   "codemirror_mode": {
    "name": "ipython",
    "version": 3
   },
   "file_extension": ".py",
   "mimetype": "text/x-python",
   "name": "python",
   "nbconvert_exporter": "python",
   "pygments_lexer": "ipython3",
   "version": "3.12.0"
  }
 },
 "nbformat": 4,
 "nbformat_minor": 2
}
