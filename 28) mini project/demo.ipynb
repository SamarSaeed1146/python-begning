{
 "cells": [
  {
   "cell_type": "markdown",
   "metadata": {},
   "source": [
    "Mini Project With User Input"
   ]
  },
  {
   "cell_type": "code",
   "execution_count": 6,
   "metadata": {},
   "outputs": [
    {
     "name": "stdout",
     "output_type": "stream",
     "text": [
      "Welcome Samar\n"
     ]
    }
   ],
   "source": [
    "userName = input('Please Enter Your Name:' )\n",
    "\n",
    "# if else statement\n",
    "\n",
    "if userName == \"Samar\" or userName == \"samar\" or userName == \"SAMAR\":\n",
    "    print(\"Welcome Samar\")\n",
    "elif userName == \"Amir\" or userName == \"amir\" or userName == \"AMIR\":\n",
    "    print(\"Welcome Amir\")\n",
    "else:\n",
    "    print(\"you are not authorized person\")\n"
   ]
  },
  {
   "cell_type": "code",
   "execution_count": 8,
   "metadata": {},
   "outputs": [
    {
     "name": "stdout",
     "output_type": "stream",
     "text": [
      "Welcome Amir\n",
      "you are not allowed to drive\n"
     ]
    }
   ],
   "source": [
    "userName = input('Please Enter Your Name:' )\n",
    "\n",
    "# if else statement\n",
    "\n",
    "if userName == \"Samar\" or userName == \"samar\" or userName == \"SAMAR\":\n",
    "    print(\"Welcome Samar\")\n",
    "elif userName == \"Amir\" or userName == \"amir\" or userName == \"AMIR\":\n",
    "    print(\"Welcome Amir\")\n",
    "    print(\"you are not allowed to drive\")\n",
    "else:\n",
    "    print(\"you are not authorized person\")"
   ]
  },
  {
   "cell_type": "code",
   "execution_count": 10,
   "metadata": {},
   "outputs": [
    {
     "name": "stdout",
     "output_type": "stream",
     "text": [
      "Welcome Samar\n",
      "you are allowed to drive\n"
     ]
    }
   ],
   "source": [
    "userName = input('Please Enter Your Name:' )\n",
    "\n",
    "# if else statement\n",
    "\n",
    "if userName == \"Samar\" or userName == \"samar\" or userName == \"SAMAR\":\n",
    "    print(\"Welcome Samar\")\n",
    "    age = int(input(\"Please Enter your age\"))\n",
    "    if age >= 18 and age <= 60:\n",
    "        print(\"you are allowed to drive\")\n",
    "    elif age < 18:\n",
    "        print(\"you are underaged\")\n",
    "    else:\n",
    "        print(\"you are overaged\")\n",
    "elif userName == \"Amir\" or userName == \"amir\" or userName == \"AMIR\":\n",
    "    print(\"Welcome Amir\")\n",
    "    print(\"you are not allowed to drive\")\n",
    "else:\n",
    "    print(\"you are not authorized person\")"
   ]
  },
  {
   "cell_type": "code",
   "execution_count": 11,
   "metadata": {},
   "outputs": [
    {
     "name": "stdout",
     "output_type": "stream",
     "text": [
      "you are not authorized person\n"
     ]
    }
   ],
   "source": [
    "userName = input('Please Enter Your Name:' )\n",
    "\n",
    "# if else statement\n",
    "\n",
    "if userName == \"Samar\" or userName == \"samar\" or userName == \"SAMAR\":\n",
    "    print(\"Welcome Samar\")\n",
    "    age = int(input(\"Please Enter your age\"))\n",
    "    if age >= 18 and age <= 60:\n",
    "        print(\"you are allowed to drive\")\n",
    "    elif age < 18:\n",
    "        print(\"you are underaged\")\n",
    "    else:\n",
    "        print(\"you are overaged\")\n",
    "elif userName == \"Amir\" or userName == \"amir\" or userName == \"AMIR\":\n",
    "    print(\"Welcome Amir\")\n",
    "    print(\"you are not allowed to drive\")\n",
    "else:\n",
    "    print(\"you are not authorized person\")"
   ]
  },
  {
   "cell_type": "code",
   "execution_count": 15,
   "metadata": {},
   "outputs": [
    {
     "name": "stdout",
     "output_type": "stream",
     "text": [
      "please chose the operator from given choice to complete this action\n"
     ]
    }
   ],
   "source": [
    "num1 = int(input(\"Please Enter your First number\")) \n",
    "num2 = int(input(\"Please Enter your Second number\")) \n",
    "opt = input(\"Please write operator +, -, *, /: \")\n",
    "\n",
    "if opt == \"+\":\n",
    "    print(num1 + num2)\n",
    "elif opt == \"-\":\n",
    "    print(num1 - num2)\n",
    "elif opt == \"*\":\n",
    "    print(num1 * num2)\n",
    "elif opt == \"/\":\n",
    "    print(num1 / num2)\n",
    "else:\n",
    "    print(\"please chose the operator from given choice to complete this action\")    "
   ]
  }
 ],
 "metadata": {
  "kernelspec": {
   "display_name": "python12",
   "language": "python",
   "name": "python3"
  },
  "language_info": {
   "codemirror_mode": {
    "name": "ipython",
    "version": 3
   },
   "file_extension": ".py",
   "mimetype": "text/x-python",
   "name": "python",
   "nbconvert_exporter": "python",
   "pygments_lexer": "ipython3",
   "version": "3.12.0"
  }
 },
 "nbformat": 4,
 "nbformat_minor": 2
}
