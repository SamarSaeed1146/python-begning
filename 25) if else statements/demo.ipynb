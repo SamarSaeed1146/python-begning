{
 "cells": [
  {
   "cell_type": "markdown",
   "metadata": {},
   "source": [
    "If Else Statement"
   ]
  },
  {
   "cell_type": "code",
   "execution_count": 3,
   "metadata": {},
   "outputs": [
    {
     "name": "stdout",
     "output_type": "stream",
     "text": [
      "welcome Samar Saeed\n"
     ]
    }
   ],
   "source": [
    "name = \"Samar Saeed\"\n",
    "if name == \"Samar Saeed\":\n",
    "    print(\"welcome Samar Saeed\")\n",
    "else:\n",
    "    print(\"your are not Samar Saeed\")"
   ]
  },
  {
   "cell_type": "code",
   "execution_count": 6,
   "metadata": {},
   "outputs": [
    {
     "name": "stdout",
     "output_type": "stream",
     "text": [
      "welcome Samar Saeed\n"
     ]
    }
   ],
   "source": [
    "name = \"Samar Saeed\"\n",
    "if name == \"Samar Saeed\":\n",
    "    print(\"welcome Samar Saeed\")\n",
    "elif name == \"Hamzah\":\n",
    "    print(\"welcome Hamzah\")\n",
    "else:\n",
    "    print(\"your are not a user\")"
   ]
  },
  {
   "cell_type": "code",
   "execution_count": 7,
   "metadata": {},
   "outputs": [
    {
     "name": "stdout",
     "output_type": "stream",
     "text": [
      "welcome Hamzah\n"
     ]
    }
   ],
   "source": [
    "name = \"Hamzah\"\n",
    "if name == \"Samar Saeed\":\n",
    "    print(\"welcome Samar Saeed\")\n",
    "elif name == \"Hamzah\":\n",
    "    print(\"welcome Hamzah\")\n",
    "else:\n",
    "    print(\"your are not a user\")"
   ]
  },
  {
   "cell_type": "code",
   "execution_count": 8,
   "metadata": {},
   "outputs": [
    {
     "name": "stdout",
     "output_type": "stream",
     "text": [
      "your are not a user\n"
     ]
    }
   ],
   "source": [
    "name = \"Ali\"\n",
    "if name == \"Samar Saeed\":\n",
    "    print(\"welcome Samar Saeed\")\n",
    "elif name == \"Hamzah\":\n",
    "    print(\"welcome Hamzah\")\n",
    "else:\n",
    "    print(\"your are not a user\")"
   ]
  },
  {
   "cell_type": "code",
   "execution_count": 11,
   "metadata": {},
   "outputs": [
    {
     "name": "stdout",
     "output_type": "stream",
     "text": [
      "You are underaged\n"
     ]
    }
   ],
   "source": [
    "age = 18\n",
    "if age > 18:\n",
    "    print(\"your are eligible to drive\")\n",
    "else:\n",
    "    print(\"You are underaged\")"
   ]
  },
  {
   "cell_type": "code",
   "execution_count": 16,
   "metadata": {},
   "outputs": [
    {
     "name": "stdout",
     "output_type": "stream",
     "text": [
      "your are eligible to drive\n"
     ]
    }
   ],
   "source": [
    "age = 55\n",
    "if age >= 18 and age <= 60:\n",
    "    print(\"your are eligible to drive\")\n",
    "elif age > 60:\n",
    "    print(\"You are overaged\")\n",
    "else:\n",
    "    print(\"You are underaged\")"
   ]
  },
  {
   "cell_type": "code",
   "execution_count": 17,
   "metadata": {},
   "outputs": [
    {
     "name": "stdout",
     "output_type": "stream",
     "text": [
      "You are overaged\n"
     ]
    }
   ],
   "source": [
    "age = 75\n",
    "if age >= 18 and age <= 60:\n",
    "    print(\"your are eligible to drive\")\n",
    "elif age > 60:\n",
    "    print(\"You are overaged\")\n",
    "else:\n",
    "    print(\"You are underaged\")"
   ]
  },
  {
   "cell_type": "code",
   "execution_count": 18,
   "metadata": {},
   "outputs": [
    {
     "name": "stdout",
     "output_type": "stream",
     "text": [
      "You are underaged\n"
     ]
    }
   ],
   "source": [
    "age = 17\n",
    "if age >= 18 and age <= 60:\n",
    "    print(\"your are eligible to drive\")\n",
    "elif age > 60:\n",
    "    print(\"You are overaged\")\n",
    "else:\n",
    "    print(\"You are underaged\")"
   ]
  }
 ],
 "metadata": {
  "kernelspec": {
   "display_name": "python12",
   "language": "python",
   "name": "python3"
  },
  "language_info": {
   "codemirror_mode": {
    "name": "ipython",
    "version": 3
   },
   "file_extension": ".py",
   "mimetype": "text/x-python",
   "name": "python",
   "nbconvert_exporter": "python",
   "pygments_lexer": "ipython3",
   "version": "3.12.0"
  }
 },
 "nbformat": 4,
 "nbformat_minor": 2
}
