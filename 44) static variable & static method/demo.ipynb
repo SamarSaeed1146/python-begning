{
 "cells": [
  {
   "cell_type": "markdown",
   "metadata": {},
   "source": [
    "Static Variable & Static Method"
   ]
  },
  {
   "cell_type": "code",
   "execution_count": 4,
   "metadata": {},
   "outputs": [
    {
     "name": "stdout",
     "output_type": "stream",
     "text": [
      "0\n"
     ]
    }
   ],
   "source": [
    "class Person:\n",
    "    count = 0   # Static variable\n",
    "\n",
    "p1  = Person()\n",
    "\n",
    "print(p1.count)"
   ]
  },
  {
   "cell_type": "code",
   "execution_count": 6,
   "metadata": {},
   "outputs": [
    {
     "name": "stdout",
     "output_type": "stream",
     "text": [
      "0\n",
      "0\n"
     ]
    }
   ],
   "source": [
    "class Person:\n",
    "    count = 0   # Static variable\n",
    "\n",
    "p1  = Person()\n",
    "\n",
    "print(p1.count)\n",
    "print(Person.count)"
   ]
  },
  {
   "cell_type": "code",
   "execution_count": 8,
   "metadata": {},
   "outputs": [
    {
     "name": "stdout",
     "output_type": "stream",
     "text": [
      "Welcome Python\n",
      "None\n",
      "Welcome Python\n",
      "None\n"
     ]
    }
   ],
   "source": [
    "class Person:\n",
    "    count = 0   # Static variable\n",
    "\n",
    "    @staticmethod\n",
    "    def welcome():\n",
    "        print(\"Welcome Python\")\n",
    "\n",
    "p1  = Person()\n",
    "\n",
    "print(p1.welcome())\n",
    "print(Person.welcome())"
   ]
  },
  {
   "cell_type": "code",
   "execution_count": 9,
   "metadata": {},
   "outputs": [
    {
     "ename": "TypeError",
     "evalue": "Person.welcome() takes 0 positional arguments but 1 was given",
     "output_type": "error",
     "traceback": [
      "\u001b[1;31m---------------------------------------------------------------------------\u001b[0m",
      "\u001b[1;31mTypeError\u001b[0m                                 Traceback (most recent call last)",
      "Cell \u001b[1;32mIn[9], line 9\u001b[0m\n\u001b[0;32m      5\u001b[0m         \u001b[38;5;28mprint\u001b[39m(\u001b[38;5;124m\"\u001b[39m\u001b[38;5;124mWelcome Python\u001b[39m\u001b[38;5;124m\"\u001b[39m)\n\u001b[0;32m      7\u001b[0m p1  \u001b[38;5;241m=\u001b[39m Person()\n\u001b[1;32m----> 9\u001b[0m \u001b[38;5;28mprint\u001b[39m(\u001b[43mp1\u001b[49m\u001b[38;5;241;43m.\u001b[39;49m\u001b[43mwelcome\u001b[49m\u001b[43m(\u001b[49m\u001b[43m)\u001b[49m)\n",
      "\u001b[1;31mTypeError\u001b[0m: Person.welcome() takes 0 positional arguments but 1 was given"
     ]
    }
   ],
   "source": [
    "class Person:\n",
    "    count = 0   # Static variable\n",
    "\n",
    "    def welcome():\n",
    "        print(\"Welcome Python\")\n",
    "\n",
    "p1  = Person()\n",
    "\n",
    "print(p1.welcome())\n"
   ]
  },
  {
   "cell_type": "code",
   "execution_count": 10,
   "metadata": {},
   "outputs": [
    {
     "name": "stdout",
     "output_type": "stream",
     "text": [
      "Welcome Python\n",
      "None\n"
     ]
    }
   ],
   "source": [
    "class Person:\n",
    "    count = 0   # Static variable\n",
    "\n",
    "    def welcome():\n",
    "        print(\"Welcome Python\")\n",
    "\n",
    "p1  = Person()\n",
    "\n",
    "print(Person.welcome())"
   ]
  }
 ],
 "metadata": {
  "kernelspec": {
   "display_name": "python12",
   "language": "python",
   "name": "python3"
  },
  "language_info": {
   "codemirror_mode": {
    "name": "ipython",
    "version": 3
   },
   "file_extension": ".py",
   "mimetype": "text/x-python",
   "name": "python",
   "nbconvert_exporter": "python",
   "pygments_lexer": "ipython3",
   "version": "3.12.0"
  }
 },
 "nbformat": 4,
 "nbformat_minor": 2
}
