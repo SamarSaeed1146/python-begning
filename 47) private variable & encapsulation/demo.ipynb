{
 "cells": [
  {
   "cell_type": "markdown",
   "metadata": {},
   "source": [
    "Private Variable / Encapsulation In Python"
   ]
  },
  {
   "cell_type": "code",
   "execution_count": 8,
   "metadata": {},
   "outputs": [
    {
     "name": "stdout",
     "output_type": "stream",
     "text": [
      "Samar\n",
      "None\n"
     ]
    }
   ],
   "source": [
    "class Human:\n",
    "    def __init__(self, name,):\n",
    "        self.__name = name\n",
    "\n",
    "    def welcome(self):\n",
    "        print(self.__name)\n",
    "\n",
    "class Player(Human):\n",
    "    def __init__(self,name):\n",
    "        super().__init__(name)\n",
    "    \n",
    "\n",
    "\n",
    "\n",
    "p1 = Player(\"Samar\")\n",
    "\n",
    "print(p1.__name)\n",
    "# print(p1.welcome())\n"
   ]
  }
 ],
 "metadata": {
  "kernelspec": {
   "display_name": "python12",
   "language": "python",
   "name": "python3"
  },
  "language_info": {
   "codemirror_mode": {
    "name": "ipython",
    "version": 3
   },
   "file_extension": ".py",
   "mimetype": "text/x-python",
   "name": "python",
   "nbconvert_exporter": "python",
   "pygments_lexer": "ipython3",
   "version": "3.12.0"
  }
 },
 "nbformat": 4,
 "nbformat_minor": 2
}
