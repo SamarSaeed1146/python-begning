{
 "cells": [
  {
   "cell_type": "markdown",
   "metadata": {},
   "source": [
    "Python For Loops\n",
    "\n",
    "A for loop is used for iterating over a sequence (that is either a list, a tuple, a dictionary, a set, or a string)."
   ]
  },
  {
   "cell_type": "code",
   "execution_count": null,
   "metadata": {},
   "outputs": [],
   "source": [
    "# Syntax\n",
    "# for var_name in iterating_list:\n",
    "#     loop_body"
   ]
  },
  {
   "cell_type": "code",
   "execution_count": 2,
   "metadata": {},
   "outputs": [
    {
     "name": "stdout",
     "output_type": "stream",
     "text": [
      "hello\n",
      "hello\n",
      "hello\n",
      "hello\n",
      "hello\n"
     ]
    }
   ],
   "source": [
    "a = \"Samar\"\n",
    "\n",
    "for x in a:\n",
    "    print(\"hello\")"
   ]
  },
  {
   "cell_type": "code",
   "execution_count": 3,
   "metadata": {},
   "outputs": [
    {
     "name": "stdout",
     "output_type": "stream",
     "text": [
      "S\n",
      "a\n",
      "m\n",
      "a\n",
      "r\n"
     ]
    }
   ],
   "source": [
    "a = \"Samar\"\n",
    "\n",
    "for x in a:\n",
    "    print(x)"
   ]
  },
  {
   "cell_type": "code",
   "execution_count": 4,
   "metadata": {},
   "outputs": [
    {
     "name": "stdout",
     "output_type": "stream",
     "text": [
      "Samar\n",
      "Saeed\n",
      "Abdul\n",
      "Khan\n"
     ]
    }
   ],
   "source": [
    "a = [\"Samar\", \"Saeed\", \"Abdul\", \"Khan\",]\n",
    "\n",
    "for x in a:\n",
    "    print(x)"
   ]
  },
  {
   "cell_type": "code",
   "execution_count": 5,
   "metadata": {},
   "outputs": [
    {
     "name": "stdout",
     "output_type": "stream",
     "text": [
      "Samar\n",
      "Saeed\n",
      "Abdul\n",
      "Khan\n"
     ]
    }
   ],
   "source": [
    "a = (\"Samar\", \"Saeed\", \"Abdul\", \"Khan\",)\n",
    "\n",
    "for x in a:\n",
    "    print(x)"
   ]
  },
  {
   "cell_type": "code",
   "execution_count": 9,
   "metadata": {},
   "outputs": [
    {
     "name": "stdout",
     "output_type": "stream",
     "text": [
      "Hello Samar\n",
      "Welcome\n",
      "Hello Saeed\n",
      "Welcome\n",
      "Hello Abdul\n",
      "Welcome\n",
      "Hello Khan\n",
      "Welcome\n"
     ]
    }
   ],
   "source": [
    "a = (\"Samar\", \"Saeed\", \"Abdul\", \"Khan\",)\n",
    "\n",
    "for x in a:\n",
    "    print(f\"Hello {x}\")\n",
    "    \n",
    "    print(f\"Welcome\")"
   ]
  },
  {
   "cell_type": "code",
   "execution_count": 11,
   "metadata": {},
   "outputs": [
    {
     "name": "stdout",
     "output_type": "stream",
     "text": [
      "Hello Samar\n",
      "Hello Saeed\n",
      "Hello Abdul\n",
      "Hello Khan\n",
      "Welcome\n"
     ]
    }
   ],
   "source": [
    "a = (\"Samar\", \"Saeed\", \"Abdul\", \"Khan\",)\n",
    "\n",
    "for x in a:\n",
    "    print(f\"Hello {x}\")\n",
    "    \n",
    "print(f\"Welcome\")"
   ]
  },
  {
   "cell_type": "code",
   "execution_count": 12,
   "metadata": {},
   "outputs": [
    {
     "name": "stdout",
     "output_type": "stream",
     "text": [
      "Hello Samar\n",
      "Hello Saeed\n",
      "Hello Abdul\n",
      "Hello Khan\n",
      "Welcome Khan\n"
     ]
    }
   ],
   "source": [
    "a = [\"Samar\", \"Saeed\", \"Abdul\", \"Khan\"]\n",
    "\n",
    "for x in a:\n",
    "    print(f\"Hello {x}\")\n",
    "\n",
    "print(f\"Welcome {x}\")"
   ]
  },
  {
   "cell_type": "code",
   "execution_count": 14,
   "metadata": {},
   "outputs": [
    {
     "name": "stdout",
     "output_type": "stream",
     "text": [
      "(0, 'Samar')\n",
      "(1, 'Saeed')\n",
      "(2, 'Abdul')\n",
      "(3, 'Khan')\n"
     ]
    }
   ],
   "source": [
    "a = (\"Samar\", \"Saeed\", \"Abdul\", \"Khan\",)\n",
    "\n",
    "for x in enumerate(a):\n",
    "    print(x)\n"
   ]
  },
  {
   "cell_type": "code",
   "execution_count": 15,
   "metadata": {},
   "outputs": [
    {
     "name": "stdout",
     "output_type": "stream",
     "text": [
      "Samar\n",
      "0\n",
      "Saeed\n",
      "1\n",
      "Abdul\n",
      "2\n",
      "Khan\n",
      "3\n"
     ]
    }
   ],
   "source": [
    "a = (\"Samar\", \"Saeed\", \"Abdul\", \"Khan\",)\n",
    "\n",
    "for i,x in enumerate(a):\n",
    "    print(x)\n",
    "    print(i)\n"
   ]
  },
  {
   "cell_type": "code",
   "execution_count": 16,
   "metadata": {},
   "outputs": [
    {
     "name": "stdout",
     "output_type": "stream",
     "text": [
      "0\n",
      "Samar\n",
      "1\n",
      "Saeed\n",
      "2\n",
      "Abdul\n",
      "3\n",
      "Khan\n"
     ]
    }
   ],
   "source": [
    "a = (\"Samar\", \"Saeed\", \"Abdul\", \"Khan\",)\n",
    "\n",
    "for x in enumerate(a):\n",
    "    index,name = x\n",
    "    print(index)\n",
    "    print(name)"
   ]
  },
  {
   "cell_type": "code",
   "execution_count": 19,
   "metadata": {},
   "outputs": [
    {
     "name": "stdout",
     "output_type": "stream",
     "text": [
      "[1, 2, 3, 4, 5, 6, 7, 8, 9, 10]\n"
     ]
    }
   ],
   "source": [
    "num = []\n",
    "\n",
    "for n in range(1,11):\n",
    "    num.append(n)\n",
    "\n",
    "print(num)"
   ]
  },
  {
   "cell_type": "code",
   "execution_count": 21,
   "metadata": {},
   "outputs": [
    {
     "name": "stdout",
     "output_type": "stream",
     "text": [
      "[1, 3, 5, 7, 9]\n"
     ]
    }
   ],
   "source": [
    "num = []\n",
    "\n",
    "for n in range(1,11,2):\n",
    "    num.append(n)\n",
    "\n",
    "print(num)"
   ]
  },
  {
   "cell_type": "code",
   "execution_count": 24,
   "metadata": {},
   "outputs": [
    {
     "name": "stdout",
     "output_type": "stream",
     "text": [
      "1\n",
      "0\n",
      "2\n",
      "1\n",
      "3\n",
      "2\n",
      "4\n",
      "3\n",
      "5\n",
      "4\n",
      "6\n",
      "5\n",
      "7\n",
      "6\n",
      "8\n",
      "7\n",
      "9\n",
      "8\n",
      "10\n",
      "9\n"
     ]
    }
   ],
   "source": [
    "a = list(range(1,11))\n",
    "\n",
    "for i,n in enumerate(a):\n",
    "    print(n)\n",
    "    print(i)"
   ]
  }
 ],
 "metadata": {
  "kernelspec": {
   "display_name": "python12",
   "language": "python",
   "name": "python3"
  },
  "language_info": {
   "codemirror_mode": {
    "name": "ipython",
    "version": 3
   },
   "file_extension": ".py",
   "mimetype": "text/x-python",
   "name": "python",
   "nbconvert_exporter": "python",
   "pygments_lexer": "ipython3",
   "version": "3.12.0"
  }
 },
 "nbformat": 4,
 "nbformat_minor": 2
}
