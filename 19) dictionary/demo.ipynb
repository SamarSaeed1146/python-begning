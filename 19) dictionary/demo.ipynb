{
 "cells": [
  {
   "cell_type": "markdown",
   "metadata": {},
   "source": [
    "Dictionary\n",
    "\n",
    "Dictionaries are used to store data variable in key : value pairs.\n",
    "Syntax:\n",
    "var_name = {key:value}"
   ]
  },
  {
   "cell_type": "code",
   "execution_count": 1,
   "metadata": {},
   "outputs": [
    {
     "name": "stdout",
     "output_type": "stream",
     "text": [
      "{'name': 'Samar Saeed', 'age': 18, 'hobbies': ['Cricket', 'Football', 'Table Soccer', 'Runing']}\n"
     ]
    }
   ],
   "source": [
    "std_data = {\n",
    "    \"name\": \"Samar Saeed\",\n",
    "    \"age\": 18,\n",
    "    \"hobbies\":[\"Cricket\", \"Football\", \"Table Soccer\", \"Runing\",]\n",
    "}\n",
    "\n",
    "print(std_data)"
   ]
  },
  {
   "cell_type": "code",
   "execution_count": 2,
   "metadata": {},
   "outputs": [
    {
     "name": "stdout",
     "output_type": "stream",
     "text": [
      "{'name': 'Samar Saeed', 'age': 20, 'hobbies': ['Cricket', 'Football', 'Table Soccer', 'Runing']}\n"
     ]
    }
   ],
   "source": [
    "std_data = {\n",
    "    \"name\": \"Samar Saeed\",\n",
    "    \"age\": 18,\n",
    "    \"hobbies\":[\"Cricket\", \"Football\", \"Table Soccer\", \"Runing\",],\n",
    "    \"age\": 20\n",
    "}\n",
    "\n",
    "print(std_data)"
   ]
  },
  {
   "cell_type": "code",
   "execution_count": 4,
   "metadata": {},
   "outputs": [
    {
     "name": "stdout",
     "output_type": "stream",
     "text": [
      "3\n"
     ]
    }
   ],
   "source": [
    "std_data = {\n",
    "    \"name\": \"Samar Saeed\",\n",
    "    \"age\": 18,\n",
    "    \"hobbies\":[\"Cricket\", \"Football\", \"Table Soccer\", \"Runing\",],\n",
    "}\n",
    "\n",
    "print(len(std_data))"
   ]
  },
  {
   "cell_type": "code",
   "execution_count": 5,
   "metadata": {},
   "outputs": [
    {
     "name": "stdout",
     "output_type": "stream",
     "text": [
      "<class 'dict'>\n"
     ]
    }
   ],
   "source": [
    "std_data = {\n",
    "    \"name\": \"Samar Saeed\",\n",
    "    \"age\": 18,\n",
    "    \"hobbies\":[\"Cricket\", \"Football\", \"Table Soccer\", \"Runing\",],\n",
    "}\n",
    "\n",
    "print(type(std_data))"
   ]
  },
  {
   "cell_type": "code",
   "execution_count": 6,
   "metadata": {},
   "outputs": [
    {
     "name": "stdout",
     "output_type": "stream",
     "text": [
      "{'name': 'Samar Saeed', 'age': 18, 'hobbies': ['Cricket', 'Football', 'Table Soccer', 'Runing'], 'adat': True}\n"
     ]
    }
   ],
   "source": [
    "std_data = {\n",
    "    \"name\": \"Samar Saeed\",\n",
    "    \"age\": 18,\n",
    "    \"hobbies\":[\"Cricket\", \"Football\", \"Table Soccer\", \"Runing\",],\n",
    "    \"adat\": True\n",
    "}\n",
    "\n",
    "print(std_data)"
   ]
  },
  {
   "cell_type": "code",
   "execution_count": 7,
   "metadata": {},
   "outputs": [
    {
     "name": "stdout",
     "output_type": "stream",
     "text": [
      "['Cricket', 'Football', 'Table Soccer', 'Runing']\n"
     ]
    }
   ],
   "source": [
    "std_data = {\n",
    "    \"name\": \"Samar Saeed\",\n",
    "    \"age\": 18,\n",
    "    \"hobbies\":[\"Cricket\", \"Football\", \"Table Soccer\", \"Runing\",],\n",
    "    \"adat\": True\n",
    "}\n",
    "\n",
    "print(std_data[\"hobbies\"])"
   ]
  },
  {
   "cell_type": "code",
   "execution_count": 8,
   "metadata": {},
   "outputs": [
    {
     "name": "stdout",
     "output_type": "stream",
     "text": [
      "Samar Saeed\n"
     ]
    }
   ],
   "source": [
    "std_data = {\n",
    "    \"name\": \"Samar Saeed\",\n",
    "    \"age\": 18,\n",
    "    \"hobbies\":[\"Cricket\", \"Football\", \"Table Soccer\", \"Runing\",],\n",
    "    \"adat\": True\n",
    "}\n",
    "\n",
    "print(std_data[\"name\"])"
   ]
  },
  {
   "cell_type": "code",
   "execution_count": 9,
   "metadata": {},
   "outputs": [
    {
     "name": "stdout",
     "output_type": "stream",
     "text": [
      "{'name': 'Samar Saeed', 'age': 20, 'hobbies': ['Cricket', 'Football', 'Table Soccer', 'Runing'], 'adat': True}\n"
     ]
    }
   ],
   "source": [
    "std_data = {\n",
    "    \"name\": \"Samar Saeed\",\n",
    "    \"age\": 18,\n",
    "    \"hobbies\":[\"Cricket\", \"Football\", \"Table Soccer\", \"Runing\",],\n",
    "    \"adat\": True\n",
    "}\n",
    "std_data[\"age\"] = 20\n",
    "\n",
    "print(std_data)"
   ]
  },
  {
   "cell_type": "code",
   "execution_count": 10,
   "metadata": {},
   "outputs": [
    {
     "name": "stdout",
     "output_type": "stream",
     "text": [
      "{'name': 'Samar Saeed', 'age': 18, 'hobbies': ['Cricket', 'Football', 'Table Soccer', 'Runing'], 'adat': True, 'roll': 20}\n"
     ]
    }
   ],
   "source": [
    "std_data = {\n",
    "    \"name\": \"Samar Saeed\",\n",
    "    \"age\": 18,\n",
    "    \"hobbies\":[\"Cricket\", \"Football\", \"Table Soccer\", \"Runing\",],\n",
    "    \"adat\": True\n",
    "}\n",
    "std_data[\"roll\"] = 20\n",
    "\n",
    "print(std_data)"
   ]
  },
  {
   "cell_type": "code",
   "execution_count": 12,
   "metadata": {},
   "outputs": [
    {
     "name": "stdout",
     "output_type": "stream",
     "text": [
      "{'name': 'Samar saeed', 'age': 18, 'hobbies': ['cricket']}\n"
     ]
    }
   ],
   "source": [
    "std_data = dict(name=\"Samar saeed\",age = 18, hobbies = [\"cricket\"])\n",
    "\n",
    "print(std_data)"
   ]
  }
 ],
 "metadata": {
  "kernelspec": {
   "display_name": "python12",
   "language": "python",
   "name": "python3"
  },
  "language_info": {
   "codemirror_mode": {
    "name": "ipython",
    "version": 3
   },
   "file_extension": ".py",
   "mimetype": "text/x-python",
   "name": "python",
   "nbconvert_exporter": "python",
   "pygments_lexer": "ipython3",
   "version": "3.12.0"
  }
 },
 "nbformat": 4,
 "nbformat_minor": 2
}
