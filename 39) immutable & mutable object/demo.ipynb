{
 "cells": [
  {
   "cell_type": "markdown",
   "metadata": {},
   "source": [
    "Discussion About Immutable & Mutable Object In Python\n",
    "\n",
    ". Immutable object are in-build data type like int, float, bool, string, unicode, tuple. In \n",
    "  simple words, an immutable object can't be changed after it is created.\n",
    ". Mutable object are of type python list, dict and set."
   ]
  },
  {
   "cell_type": "code",
   "execution_count": 1,
   "metadata": {},
   "outputs": [
    {
     "name": "stdout",
     "output_type": "stream",
     "text": [
      "10 140705524435672\n",
      "10 140705524435672\n"
     ]
    }
   ],
   "source": [
    "a = 10\n",
    "b = a\n",
    "\n",
    "print(a,id(a))\n",
    "print(b,id(b))"
   ]
  },
  {
   "cell_type": "code",
   "execution_count": 2,
   "metadata": {},
   "outputs": [
    {
     "name": "stdout",
     "output_type": "stream",
     "text": [
      "10 140705524435672\n",
      "11 140705524435704\n"
     ]
    }
   ],
   "source": [
    "a = 10\n",
    "b = a\n",
    "\n",
    "b += 1\n",
    "\n",
    "print(a,id(a))\n",
    "print(b,id(b))"
   ]
  },
  {
   "cell_type": "code",
   "execution_count": 4,
   "metadata": {},
   "outputs": [
    {
     "name": "stdout",
     "output_type": "stream",
     "text": [
      "['Samar', 'Saeed', 'Abdul'] 1928432148096\n",
      "['Samar', 'Saeed', 'Abdul'] 1928432148096\n"
     ]
    }
   ],
   "source": [
    "a = [\"Samar\",\"Saeed\"]\n",
    "b = a\n",
    "\n",
    "b.append(\"Abdul\")\n",
    "\n",
    "print(a,id(a))\n",
    "print(b,id(b))"
   ]
  },
  {
   "cell_type": "code",
   "execution_count": 5,
   "metadata": {},
   "outputs": [
    {
     "name": "stdout",
     "output_type": "stream",
     "text": [
      "['Samar', 'Saeed'] 1928432363200\n",
      "['Abdul'] 1928431700736\n"
     ]
    }
   ],
   "source": [
    "a = [\"Samar\",\"Saeed\"]\n",
    "b = a\n",
    "\n",
    "b = [\"Abdul\"]\n",
    "\n",
    "print(a,id(a))\n",
    "print(b,id(b))"
   ]
  },
  {
   "cell_type": "code",
   "execution_count": 7,
   "metadata": {},
   "outputs": [
    {
     "name": "stdout",
     "output_type": "stream",
     "text": [
      "['Samar', 'Saeed'] 1928431825216\n",
      "['Abdul', 'Khan'] 1928431735168\n"
     ]
    }
   ],
   "source": [
    "a = [\"Samar\",\"Saeed\"]\n",
    "b = a\n",
    "\n",
    "b = [\"Abdul\"]\n",
    "\n",
    "b.append(\"Khan\")\n",
    "\n",
    "print(a,id(a))\n",
    "print(b,id(b))"
   ]
  },
  {
   "cell_type": "code",
   "execution_count": 8,
   "metadata": {},
   "outputs": [
    {
     "name": "stdout",
     "output_type": "stream",
     "text": [
      "['Samar', 'Saeed', 'Khan'] 1928432148096\n",
      "['Samar', 'Saeed', 'Khan'] 1928432148096\n"
     ]
    }
   ],
   "source": [
    "a = [\"Samar\",\"Saeed\"]\n",
    "b = [\"Abdul\"]\n",
    "\n",
    "b = a\n",
    "\n",
    "b.append(\"Khan\")\n",
    "\n",
    "print(a,id(a))\n",
    "print(b,id(b))"
   ]
  }
 ],
 "metadata": {
  "kernelspec": {
   "display_name": "python12",
   "language": "python",
   "name": "python3"
  },
  "language_info": {
   "codemirror_mode": {
    "name": "ipython",
    "version": 3
   },
   "file_extension": ".py",
   "mimetype": "text/x-python",
   "name": "python",
   "nbconvert_exporter": "python",
   "pygments_lexer": "ipython3",
   "version": "3.12.0"
  }
 },
 "nbformat": 4,
 "nbformat_minor": 2
}
