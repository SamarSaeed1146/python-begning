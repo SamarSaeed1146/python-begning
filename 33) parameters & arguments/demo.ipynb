{
 "cells": [
  {
   "cell_type": "markdown",
   "metadata": {},
   "source": [
    "Function's Parameters & Arguments In Python"
   ]
  },
  {
   "cell_type": "code",
   "execution_count": 4,
   "metadata": {},
   "outputs": [
    {
     "name": "stdout",
     "output_type": "stream",
     "text": [
      "Hello Samar\n"
     ]
    }
   ],
   "source": [
    "def hello_func(x):\n",
    "    print(x)\n",
    "\n",
    "hello_func(\"Hello Samar\")"
   ]
  },
  {
   "cell_type": "code",
   "execution_count": 7,
   "metadata": {},
   "outputs": [
    {
     "name": "stdout",
     "output_type": "stream",
     "text": [
      "10\n",
      "20\n"
     ]
    }
   ],
   "source": [
    "def hello_func(x,y):\n",
    "    print(x)\n",
    "    print(y)\n",
    "\n",
    "hello_func(10,20)"
   ]
  },
  {
   "cell_type": "code",
   "execution_count": 8,
   "metadata": {},
   "outputs": [
    {
     "name": "stdout",
     "output_type": "stream",
     "text": [
      "60\n"
     ]
    }
   ],
   "source": [
    "def cal(x,y):\n",
    "    print(x + y)\n",
    "\n",
    "cal(5,55)"
   ]
  },
  {
   "cell_type": "code",
   "execution_count": 12,
   "metadata": {},
   "outputs": [
    {
     "name": "stdout",
     "output_type": "stream",
     "text": [
      "hello samar\n"
     ]
    }
   ],
   "source": [
    "def cal(x = \"hello samar\"):\n",
    "    print(x)\n",
    "\n",
    "cal()"
   ]
  },
  {
   "cell_type": "code",
   "execution_count": 15,
   "metadata": {},
   "outputs": [
    {
     "name": "stdout",
     "output_type": "stream",
     "text": [
      "hello Saeed\n"
     ]
    }
   ],
   "source": [
    "def cal(x = \"hello samar\"):\n",
    "    print(x)\n",
    "\n",
    "cal(\"hello Saeed\")"
   ]
  },
  {
   "cell_type": "code",
   "execution_count": 16,
   "metadata": {},
   "outputs": [
    {
     "name": "stdout",
     "output_type": "stream",
     "text": [
      "(1, 2, 3, 'a', 'b', 'c')\n"
     ]
    }
   ],
   "source": [
    "def hello_func(*x):\n",
    "    print(x)\n",
    "\n",
    "hello_func(1,2,3,\"a\",\"b\",\"c\")"
   ]
  },
  {
   "cell_type": "code",
   "execution_count": 17,
   "metadata": {},
   "outputs": [
    {
     "name": "stdout",
     "output_type": "stream",
     "text": [
      "b\n"
     ]
    }
   ],
   "source": [
    "def hello_func(*x):\n",
    "    print(x[4])\n",
    "\n",
    "hello_func(1,2,3,\"a\",\"b\",\"c\")"
   ]
  },
  {
   "cell_type": "code",
   "execution_count": 19,
   "metadata": {},
   "outputs": [
    {
     "name": "stdout",
     "output_type": "stream",
     "text": [
      "{'fname': 'Samar', 'lname': 'Saeed'}\n"
     ]
    }
   ],
   "source": [
    "def hello_func(**x):\n",
    "    print(x)\n",
    "\n",
    "hello_func(fname = \"Samar\", lname = \"Saeed\")"
   ]
  },
  {
   "cell_type": "code",
   "execution_count": 20,
   "metadata": {},
   "outputs": [
    {
     "name": "stdout",
     "output_type": "stream",
     "text": [
      "Samar\n"
     ]
    }
   ],
   "source": [
    "def hello_func(**x):\n",
    "    print(x[\"fname\"])\n",
    "\n",
    "hello_func(fname = \"Samar\", lname = \"Saeed\")"
   ]
  }
 ],
 "metadata": {
  "kernelspec": {
   "display_name": "python12",
   "language": "python",
   "name": "python3"
  },
  "language_info": {
   "codemirror_mode": {
    "name": "ipython",
    "version": 3
   },
   "file_extension": ".py",
   "mimetype": "text/x-python",
   "name": "python",
   "nbconvert_exporter": "python",
   "pygments_lexer": "ipython3",
   "version": "3.12.0"
  }
 },
 "nbformat": 4,
 "nbformat_minor": 2
}
