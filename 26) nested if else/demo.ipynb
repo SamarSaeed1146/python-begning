{
 "cells": [
  {
   "cell_type": "markdown",
   "metadata": {},
   "source": [
    "Nested If Else Statement "
   ]
  },
  {
   "cell_type": "code",
   "execution_count": 3,
   "metadata": {},
   "outputs": [
    {
     "name": "stdout",
     "output_type": "stream",
     "text": [
      "Welcome Samar Saeed\n",
      "you are underage\n"
     ]
    }
   ],
   "source": [
    "name = \"Samar Saeed\"\n",
    "age = 16\n",
    "\n",
    "if name == \"Samar Saeed\":\n",
    "    print(\"Welcome Samar Saeed\")\n",
    "    if age >= 18 and age <= 60:\n",
    "        print(\"you are still a user\")\n",
    "    elif age < 18:\n",
    "        print(\"you are underage\") \n",
    "    else:\n",
    "        print(\"you are retired\")  \n",
    "elif name == \"Umer\":\n",
    "    print(\"Welcome Umer\")\n",
    "    if age >= 18 and age <= 60:\n",
    "        print(\"you are still a user\")\n",
    "    elif age < 18:\n",
    "        print(\"you are underage\") \n",
    "    else:\n",
    "        print(\"you are retired\")\n",
    "else:\n",
    "    print(\"you are not a user\")"
   ]
  },
  {
   "cell_type": "code",
   "execution_count": 4,
   "metadata": {},
   "outputs": [
    {
     "name": "stdout",
     "output_type": "stream",
     "text": [
      "Welcome Umer\n",
      "you are retired\n"
     ]
    }
   ],
   "source": [
    "name = \"Umer\"\n",
    "age = 67\n",
    "\n",
    "if name == \"Samar Saeed\":\n",
    "    print(\"Welcome Samar Saeed\")\n",
    "    if age >= 18 and age <= 60:\n",
    "        print(\"you are still a user\")\n",
    "    elif age < 18:\n",
    "        print(\"you are underage\") \n",
    "    else:\n",
    "        print(\"you are retired\")  \n",
    "elif name == \"Umer\":\n",
    "    print(\"Welcome Umer\")\n",
    "    if age >= 18 and age <= 60:\n",
    "        print(\"you are still a user\")\n",
    "    elif age < 18:\n",
    "        print(\"you are underage\") \n",
    "    else:\n",
    "        print(\"you are retired\")\n",
    "else:\n",
    "    print(\"you are not a user\")"
   ]
  }
 ],
 "metadata": {
  "kernelspec": {
   "display_name": "python12",
   "language": "python",
   "name": "python3"
  },
  "language_info": {
   "codemirror_mode": {
    "name": "ipython",
    "version": 3
   },
   "file_extension": ".py",
   "mimetype": "text/x-python",
   "name": "python",
   "nbconvert_exporter": "python",
   "pygments_lexer": "ipython3",
   "version": "3.12.0"
  }
 },
 "nbformat": 4,
 "nbformat_minor": 2
}
