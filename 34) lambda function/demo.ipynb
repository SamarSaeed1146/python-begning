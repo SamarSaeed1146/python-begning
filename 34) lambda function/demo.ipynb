{
 "cells": [
  {
   "cell_type": "markdown",
   "metadata": {},
   "source": [
    "Lambda Function In Python\n",
    "\n",
    ". A lambda function is a small anonymous function.\n",
    ". A lambda function can take any number of arguments, but can only have one expression.\n",
    "\n",
    "Syntax:\n",
    ". Lambda parameters : expression"
   ]
  },
  {
   "cell_type": "code",
   "execution_count": 8,
   "metadata": {},
   "outputs": [
    {
     "name": "stdout",
     "output_type": "stream",
     "text": [
      "SamarSaeed\n"
     ]
    }
   ],
   "source": [
    "cal = lambda name : name + \"Saeed\"\n",
    "\n",
    "print(cal(\"Samar\"))"
   ]
  },
  {
   "cell_type": "code",
   "execution_count": 7,
   "metadata": {},
   "outputs": [
    {
     "name": "stdout",
     "output_type": "stream",
     "text": [
      "6600\n"
     ]
    }
   ],
   "source": [
    "cal = lambda x : x * 100\n",
    "\n",
    "print(cal(66))"
   ]
  }
 ],
 "metadata": {
  "kernelspec": {
   "display_name": "python12",
   "language": "python",
   "name": "python3"
  },
  "language_info": {
   "codemirror_mode": {
    "name": "ipython",
    "version": 3
   },
   "file_extension": ".py",
   "mimetype": "text/x-python",
   "name": "python",
   "nbconvert_exporter": "python",
   "pygments_lexer": "ipython3",
   "version": "3.12.0"
  }
 },
 "nbformat": 4,
 "nbformat_minor": 2
}
