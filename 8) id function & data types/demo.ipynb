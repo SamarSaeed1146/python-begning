{
 "cells": [
  {
   "cell_type": "markdown",
   "metadata": {},
   "source": [
    "Id Function & Data Types"
   ]
  },
  {
   "cell_type": "code",
   "execution_count": 1,
   "metadata": {},
   "outputs": [
    {
     "name": "stdout",
     "output_type": "stream",
     "text": [
      "2310296292848\n",
      "2310296299376\n",
      "140703137421560\n",
      "2310295068368\n",
      "140703136287440\n"
     ]
    }
   ],
   "source": [
    "name1:str = 'Samar Saeed'\n",
    "name2:int = 123\n",
    "name3:float = 12.9\n",
    "name4:bool = True\n",
    "\n",
    "# id method\n",
    "print(id(name1))\n",
    "print(id(name2))\n",
    "print(id(name3))\n",
    "print(id(name4))"
   ]
  },
  {
   "cell_type": "code",
   "execution_count": 3,
   "metadata": {},
   "outputs": [
    {
     "name": "stdout",
     "output_type": "stream",
     "text": [
      "<class 'str'>\n",
      "<class 'int'>\n",
      "<class 'float'>\n",
      "<class 'bool'>\n",
      "<class 'list'>\n"
     ]
    }
   ],
   "source": [
    "name1 = 'Samar Saeed'\n",
    "name2 = 123\n",
    "name3 = 12.9\n",
    "name4 = True\n",
    "arr = ['a',\"b\",\"c\",\"d\",]\n",
    "\n",
    "# type method\n",
    "print(type(name1))\n",
    "print(type(name2))\n",
    "print(type(name3))\n",
    "print(type(name4))\n",
    "print(type(arr))"
   ]
  }
 ],
 "metadata": {
  "kernelspec": {
   "display_name": "python12",
   "language": "python",
   "name": "python3"
  },
  "language_info": {
   "codemirror_mode": {
    "name": "ipython",
    "version": 3
   },
   "file_extension": ".py",
   "mimetype": "text/x-python",
   "name": "python",
   "nbconvert_exporter": "python",
   "pygments_lexer": "ipython3",
   "version": "3.12.0"
  }
 },
 "nbformat": 4,
 "nbformat_minor": 2
}
