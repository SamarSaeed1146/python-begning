{
 "cells": [
  {
   "cell_type": "markdown",
   "metadata": {},
   "source": [
    "Function in Python\n",
    "\n",
    "Syntax:\n",
    "\n",
    "def function_name():\n",
    "        function body"
   ]
  },
  {
   "cell_type": "code",
   "execution_count": 2,
   "metadata": {},
   "outputs": [
    {
     "name": "stdout",
     "output_type": "stream",
     "text": [
      "Hello Samar Saeed\n"
     ]
    }
   ],
   "source": [
    "def hello_function():\n",
    "    print(\"Hello Samar Saeed\")\n",
    "\n",
    "hello_function()"
   ]
  },
  {
   "cell_type": "code",
   "execution_count": 3,
   "metadata": {},
   "outputs": [
    {
     "name": "stdout",
     "output_type": "stream",
     "text": [
      "Hello Samar Saeed\n",
      "Hello Samar Saeed\n",
      "Hello Samar Saeed\n",
      "Hello Samar Saeed\n",
      "Hello Samar Saeed\n",
      "Hello Samar Saeed\n",
      "Hello Samar Saeed\n",
      "Hello Samar Saeed\n",
      "Hello Samar Saeed\n"
     ]
    }
   ],
   "source": [
    "def hello_function():\n",
    "    print(\"Hello Samar Saeed\")\n",
    "    print(\"Hello Samar Saeed\")\n",
    "    print(\"Hello Samar Saeed\")\n",
    "    print(\"Hello Samar Saeed\")\n",
    "    print(\"Hello Samar Saeed\")\n",
    "    print(\"Hello Samar Saeed\")\n",
    "    print(\"Hello Samar Saeed\")\n",
    "    print(\"Hello Samar Saeed\")\n",
    "    print(\"Hello Samar Saeed\")\n",
    "\n",
    "hello_function()"
   ]
  },
  {
   "cell_type": "code",
   "execution_count": 4,
   "metadata": {},
   "outputs": [
    {
     "data": {
      "text/plain": [
       "4"
      ]
     },
     "execution_count": 4,
     "metadata": {},
     "output_type": "execute_result"
    }
   ],
   "source": [
    "def hello_function():\n",
    "    return 4\n",
    "\n",
    "hello_function()"
   ]
  },
  {
   "cell_type": "code",
   "execution_count": 6,
   "metadata": {},
   "outputs": [
    {
     "name": "stdout",
     "output_type": "stream",
     "text": [
      "30\n"
     ]
    }
   ],
   "source": [
    "def cal():\n",
    "    return 10 + 20\n",
    "\n",
    "test = cal()\n",
    "print(test)"
   ]
  },
  {
   "cell_type": "code",
   "execution_count": 7,
   "metadata": {},
   "outputs": [
    {
     "name": "stdout",
     "output_type": "stream",
     "text": [
      "Calculation Successful\n"
     ]
    }
   ],
   "source": [
    "def cal():\n",
    "    10 + 20\n",
    "    160 - 60\n",
    "    66 * 6\n",
    "    return \"Calculation Successful\"\n",
    "\n",
    "test = cal()\n",
    "print(test)"
   ]
  }
 ],
 "metadata": {
  "kernelspec": {
   "display_name": "python12",
   "language": "python",
   "name": "python3"
  },
  "language_info": {
   "codemirror_mode": {
    "name": "ipython",
    "version": 3
   },
   "file_extension": ".py",
   "mimetype": "text/x-python",
   "name": "python",
   "nbconvert_exporter": "python",
   "pygments_lexer": "ipython3",
   "version": "3.12.0"
  }
 },
 "nbformat": 4,
 "nbformat_minor": 2
}
