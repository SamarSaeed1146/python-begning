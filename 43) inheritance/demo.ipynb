{
 "cells": [
  {
   "cell_type": "markdown",
   "metadata": {},
   "source": [
    "Inheritance\n",
    "\n",
    "Inheritance allows us to define a class that inherits all the methods and properties from another class."
   ]
  },
  {
   "cell_type": "code",
   "execution_count": 4,
   "metadata": {},
   "outputs": [
    {
     "name": "stdout",
     "output_type": "stream",
     "text": [
      "Samar\n",
      "welcome Samar\n"
     ]
    }
   ],
   "source": [
    "class Person:\n",
    "    def __init__(self, name, age,):\n",
    "        self.name = name  \n",
    "        self.age = age\n",
    "    def welcome(self):\n",
    "        print(f\"welcome {self.name}\")\n",
    "\n",
    "class Student:\n",
    "    def __init__(self, name, age,):\n",
    "        self.name = name  \n",
    "        self.age = age\n",
    "    def Student(self):\n",
    "        print(f\"welcome {self.name}\")\n",
    "\n",
    "p1 = Person(\"Samar\",18)\n",
    "\n",
    "print(p1.name)\n",
    "p1.welcome()"
   ]
  },
  {
   "cell_type": "code",
   "execution_count": 5,
   "metadata": {},
   "outputs": [
    {
     "name": "stdout",
     "output_type": "stream",
     "text": [
      "Samar\n",
      "welcome Samar\n"
     ]
    }
   ],
   "source": [
    "class Person:\n",
    "    def __init__(self, name, age,):\n",
    "        self.name = name  \n",
    "        self.age = age\n",
    "    def welcome(self):\n",
    "        print(f\"welcome {self.name}\")\n",
    "\n",
    "class Student(Person):\n",
    "    pass\n",
    "\n",
    "p1 = Person(\"Samar\",18)\n",
    "\n",
    "print(p1.name)\n",
    "p1.welcome()"
   ]
  },
  {
   "cell_type": "code",
   "execution_count": 16,
   "metadata": {},
   "outputs": [
    {
     "name": "stdout",
     "output_type": "stream",
     "text": [
      "Samar\n",
      "xyz123@.com\n",
      "18\n",
      "welcome Samar\n"
     ]
    }
   ],
   "source": [
    "class Person:\n",
    "    def __init__(self, name, age,):\n",
    "        self.name = name  \n",
    "        self.age = age\n",
    "    def welcome(self):\n",
    "        print(f\"welcome {self.name}\")\n",
    "\n",
    "class Student(Person):\n",
    "    def __init__(self,name,age,email):\n",
    "        super().__init__(name,age)\n",
    "        self.email = email  \n",
    "\n",
    "p1 = Student(\"Samar\",18,\"xyz123@.com\")\n",
    "\n",
    "print(p1.name)\n",
    "print(p1.email)\n",
    "print(p1.age)\n",
    "p1.welcome()"
   ]
  }
 ],
 "metadata": {
  "kernelspec": {
   "display_name": "python12",
   "language": "python",
   "name": "python3"
  },
  "language_info": {
   "codemirror_mode": {
    "name": "ipython",
    "version": 3
   },
   "file_extension": ".py",
   "mimetype": "text/x-python",
   "name": "python",
   "nbconvert_exporter": "python",
   "pygments_lexer": "ipython3",
   "version": "3.12.0"
  }
 },
 "nbformat": 4,
 "nbformat_minor": 2
}
