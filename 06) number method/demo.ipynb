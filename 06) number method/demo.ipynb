{
 "cells": [
  {
   "cell_type": "markdown",
   "metadata": {},
   "source": [
    "Number Method"
   ]
  },
  {
   "cell_type": "code",
   "execution_count": 10,
   "metadata": {},
   "outputs": [
    {
     "name": "stdout",
     "output_type": "stream",
     "text": [
      "5 + 10 = 15\n",
      "5 - 10 = -5\n",
      "5 x 10 = 50\n",
      "5 / 10 = 0.5\n",
      "5 % 10 = 5\n",
      "3 ^ 2 = 9\n"
     ]
    }
   ],
   "source": [
    "num1:int = 21 # integer\n",
    "num2:float = 3.77 # float type for decimal\n",
    "num1 = 5\n",
    "num2 = 10\n",
    "# for addition\n",
    "print(f\"{num1} + {num2} = {num1 + num2}\")\n",
    "#for subtraction\n",
    "print(f\"{num1} - {num2} = {num1 - num2}\")\n",
    "#for multiply\n",
    "print(f\"{num1} x {num2} = {num1 * num2}\")\n",
    "#for divide\n",
    "print(f\"{num1} / {num2} = {num1 / num2}\")\n",
    "# modulus\n",
    "print(f\"{num1} % {num2} = {num1 % num2}\")\n",
    "# power\n",
    "num3:int = 3\n",
    "num4:int = 2\n",
    "print(f\"{num3} ^ {num4} = {num3 ** num4}\")"
   ]
  }
 ],
 "metadata": {
  "kernelspec": {
   "display_name": "python12",
   "language": "python",
   "name": "python3"
  },
  "language_info": {
   "codemirror_mode": {
    "name": "ipython",
    "version": 3
   },
   "file_extension": ".py",
   "mimetype": "text/x-python",
   "name": "python",
   "nbconvert_exporter": "python",
   "pygments_lexer": "ipython3",
   "version": "3.12.0"
  }
 },
 "nbformat": 4,
 "nbformat_minor": 2
}
